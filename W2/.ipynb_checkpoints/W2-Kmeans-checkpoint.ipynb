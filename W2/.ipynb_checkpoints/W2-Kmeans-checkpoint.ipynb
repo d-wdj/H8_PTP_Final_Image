{
 "cells": [
  {
   "cell_type": "markdown",
   "metadata": {},
   "source": [
    "# Clustering Algorithm: K-Means\n",
    "\n",
    "**K-Means** is one of simple clustering algorithm which belongs to *unsupervised learning*. As a reminder, the unsupervised learning is all about understanding how to group data either:\n",
    "\n",
    "1. When we don't have labels to predict. An example of it would be determining customer segments. We may don't have a label but intuition about how many segments that reasonably exist in our customer.\n",
    "2. When we are not trying to predict a label, but rather group the data together for some reason. Take an example when we have tons of data and we want to condense it down to only use number of features.\n",
    "\n",
    "Among other clustering algorithms, the simplest may be this **K-Means** algorithm. Some use cases where we want to try K-Means is to group books for recommendation or deduplication of items (articles/movies to be recommended).\n",
    "\n",
    "![](../../assets/img/kmeans.png)"
   ]
  },
  {
   "cell_type": "markdown",
   "metadata": {},
   "source": [
    "## K-Means in Scikit-learn\n",
    "\n",
    "In this notebook, we will use `scikit-learn` to implement K-Means. The name of the class is `KMeans`. In order to use the class, we better pass 2 arguments which depends on the data and cases we're trying to solve. Those arguments are for parameters:\n",
    "\n",
    "- `n_cluster`\n",
    "- `random_state`\n",
    "\n",
    "The `n_cluster` are necessary since it depends on the case and/or the dataset we use. The `random_state` is in fact optional, but it's good to set the `random_state` so that we can produce the same result every time we run the code."
   ]
  },
  {
   "cell_type": "code",
   "execution_count": 1,
   "metadata": {},
   "outputs": [],
   "source": [
    "# import things\n",
    "\n",
    "import matplotlib.pyplot as plt # import matplotlib here\n",
    "import numpy as np # import numpy here\n",
    "import pandas as pd # import pandas here\n",
    "from sklearn.cluster import KMeans # import kmeans from scikit-learn"
   ]
  },
  {
   "cell_type": "code",
   "execution_count": null,
   "metadata": {},
   "outputs": [],
   "source": [
    "# Load dataset\n",
    "tracks = # load the tracks dataset\n",
    "print(\"dataset shape:\") # print the shape of the data inside print function\n",
    "display() # show first 10 rows of the data\n",
    "display() # show some information of the data\n",
    "display() # show some statistics summaries of the data"
   ]
  },
  {
   "cell_type": "code",
   "execution_count": null,
   "metadata": {},
   "outputs": [],
   "source": [
    "# use only columns [\"id\", \"id_android\", \"speed\", \"distance\"]\n",
    "data = ..."
   ]
  },
  {
   "cell_type": "code",
   "execution_count": null,
   "metadata": {},
   "outputs": [],
   "source": [
    "# plot the data with x-axis is speed, y-axis is distance\n"
   ]
  },
  {
   "cell_type": "code",
   "execution_count": null,
   "metadata": {},
   "outputs": [],
   "source": [
    "# convert dataframen to numpy array\n",
    "X = np.array()"
   ]
  },
  {
   "cell_type": "code",
   "execution_count": null,
   "metadata": {},
   "outputs": [],
   "source": [
    "# define the KMeans instance\n",
    "kmeans = ..."
   ]
  },
  {
   "cell_type": "code",
   "execution_count": null,
   "metadata": {},
   "outputs": [],
   "source": [
    "# print the centers for each clusters\n",
    "print()"
   ]
  },
  {
   "cell_type": "code",
   "execution_count": null,
   "metadata": {},
   "outputs": [],
   "source": [
    "# add cluster labels to dataframe\n",
    "data[...] = ..."
   ]
  },
  {
   "cell_type": "code",
   "execution_count": null,
   "metadata": {},
   "outputs": [],
   "source": [
    "# visualize kmeans results\n"
   ]
  },
  {
   "cell_type": "markdown",
   "metadata": {},
   "source": [
    "## So, how does K-means work?\n",
    "\n",
    "Before fitting the KMeans model, we need to set some the number of clusters, `K`. This number will also determine the number of **center of clusters**, called **centroids** to be assigned. Here's one method for computing k-means:\n",
    "\n",
    "1. Randomly place `k` centroids amongst the data\n",
    "\n",
    "2. Then, within a loop until **convergence**, perform the following steps:\n",
    "\n",
    "    2.1 Assign each point to the closest centroids\n",
    "    \n",
    "    2.2 Move the centroids to the center of the points assigned to it"
   ]
  },
  {
   "cell_type": "markdown",
   "metadata": {},
   "source": [
    "## How about the metrics?\n",
    "\n",
    "Since k-means is unsupervised technique, we need to do some workaround to measure the performance. The tangible way is to use **elbow method** with **scree plot**."
   ]
  },
  {
   "cell_type": "code",
   "execution_count": null,
   "metadata": {},
   "outputs": [],
   "source": [
    "# plot kmeans properties, `intertia_`"
   ]
  }
 ],
 "metadata": {
  "kernelspec": {
   "display_name": "Python 3",
   "language": "python",
   "name": "python3"
  },
  "language_info": {
   "codemirror_mode": {
    "name": "ipython",
    "version": 3
   },
   "file_extension": ".py",
   "mimetype": "text/x-python",
   "name": "python",
   "nbconvert_exporter": "python",
   "pygments_lexer": "ipython3",
   "version": "3.7.5"
  }
 },
 "nbformat": 4,
 "nbformat_minor": 4
}
