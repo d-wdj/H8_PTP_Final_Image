{
 "cells": [
  {
   "cell_type": "markdown",
   "metadata": {},
   "source": [
    "# Clustering Algorithm: K-Means\n",
    "\n",
    "**K-Means** is one of simple clustering algorithm which belongs to *unsupervised learning*. As a reminder, the unsupervised learning is all about understanding how to group data either:\n",
    "\n",
    "1. When we don't have labels to predict. An example of it would be determining customer segments. We may don't have a label but intuition about how many segments that reasonably exist in our customer.\n",
    "2. When we are not trying to predict a label, but rather group the data together for some reason. Take an example when we have tons of data and we want to condense it down to only use number of features.\n",
    "\n",
    "Among other clustering algorithms, the simplest may be this **K-Means** algorithm. Some use cases where we want to try K-Means is to group books for recommendation or deduplication of items (articles/movies to be recommended).\n",
    "\n",
    "![](../../assets/img/kmeans.png)"
   ]
  },
  {
   "cell_type": "markdown",
   "metadata": {},
   "source": [
    "## K-Means in Scikit-learn\n",
    "\n",
    "In this notebook, we will use `scikit-learn` to implement K-Means. The name of the class is `KMeans`. In order to use the class, we better pass 2 arguments which depends on the data and cases we're trying to solve. Those arguments are for parameters:\n",
    "\n",
    "- `n_cluster`\n",
    "- `random_state`\n",
    "\n",
    "The `n_cluster` are necessary since it depends on the case and/or the dataset we use. The `random_state` is in fact optional, but it's good to set the `random_state` so that we can produce the same result every time we run the code."
   ]
  },
  {
   "cell_type": "code",
   "execution_count": 1,
   "metadata": {},
   "outputs": [],
   "source": [
    "# import things\n",
    "\n",
    "import matplotlib.pyplot as plt # import matplotlib here\n",
    "import numpy as np # import numpy here\n",
    "import pandas as pd # import pandas here\n",
    "from sklearn.cluster import KMeans # import kmeans from scikit-learn"
   ]
  },
  {
   "cell_type": "code",
   "execution_count": 4,
   "metadata": {},
   "outputs": [
    {
     "name": "stdout",
     "output_type": "stream",
     "text": [
      "dataset shape: (163, 10)\n"
     ]
    },
    {
     "data": {
      "text/html": [
       "<div>\n",
       "<style scoped>\n",
       "    .dataframe tbody tr th:only-of-type {\n",
       "        vertical-align: middle;\n",
       "    }\n",
       "\n",
       "    .dataframe tbody tr th {\n",
       "        vertical-align: top;\n",
       "    }\n",
       "\n",
       "    .dataframe thead th {\n",
       "        text-align: right;\n",
       "    }\n",
       "</style>\n",
       "<table border=\"1\" class=\"dataframe\">\n",
       "  <thead>\n",
       "    <tr style=\"text-align: right;\">\n",
       "      <th></th>\n",
       "      <th>id</th>\n",
       "      <th>id_android</th>\n",
       "      <th>speed</th>\n",
       "      <th>time</th>\n",
       "      <th>distance</th>\n",
       "      <th>rating</th>\n",
       "      <th>rating_bus</th>\n",
       "      <th>rating_weather</th>\n",
       "      <th>car_or_bus</th>\n",
       "      <th>linha</th>\n",
       "    </tr>\n",
       "  </thead>\n",
       "  <tbody>\n",
       "    <tr>\n",
       "      <th>0</th>\n",
       "      <td>1</td>\n",
       "      <td>0</td>\n",
       "      <td>19.210586</td>\n",
       "      <td>0.138049</td>\n",
       "      <td>2.652</td>\n",
       "      <td>3</td>\n",
       "      <td>0</td>\n",
       "      <td>0</td>\n",
       "      <td>1</td>\n",
       "      <td>NaN</td>\n",
       "    </tr>\n",
       "    <tr>\n",
       "      <th>1</th>\n",
       "      <td>2</td>\n",
       "      <td>0</td>\n",
       "      <td>30.848229</td>\n",
       "      <td>0.171485</td>\n",
       "      <td>5.290</td>\n",
       "      <td>3</td>\n",
       "      <td>0</td>\n",
       "      <td>0</td>\n",
       "      <td>1</td>\n",
       "      <td>NaN</td>\n",
       "    </tr>\n",
       "    <tr>\n",
       "      <th>2</th>\n",
       "      <td>3</td>\n",
       "      <td>1</td>\n",
       "      <td>13.560101</td>\n",
       "      <td>0.067699</td>\n",
       "      <td>0.918</td>\n",
       "      <td>3</td>\n",
       "      <td>0</td>\n",
       "      <td>0</td>\n",
       "      <td>2</td>\n",
       "      <td>NaN</td>\n",
       "    </tr>\n",
       "    <tr>\n",
       "      <th>3</th>\n",
       "      <td>4</td>\n",
       "      <td>1</td>\n",
       "      <td>19.766679</td>\n",
       "      <td>0.389544</td>\n",
       "      <td>7.700</td>\n",
       "      <td>3</td>\n",
       "      <td>0</td>\n",
       "      <td>0</td>\n",
       "      <td>2</td>\n",
       "      <td>NaN</td>\n",
       "    </tr>\n",
       "    <tr>\n",
       "      <th>4</th>\n",
       "      <td>8</td>\n",
       "      <td>0</td>\n",
       "      <td>25.807401</td>\n",
       "      <td>0.154801</td>\n",
       "      <td>3.995</td>\n",
       "      <td>2</td>\n",
       "      <td>0</td>\n",
       "      <td>0</td>\n",
       "      <td>1</td>\n",
       "      <td>NaN</td>\n",
       "    </tr>\n",
       "  </tbody>\n",
       "</table>\n",
       "</div>"
      ],
      "text/plain": [
       "   id  id_android      speed      time  distance  rating  rating_bus  \\\n",
       "0   1           0  19.210586  0.138049     2.652       3           0   \n",
       "1   2           0  30.848229  0.171485     5.290       3           0   \n",
       "2   3           1  13.560101  0.067699     0.918       3           0   \n",
       "3   4           1  19.766679  0.389544     7.700       3           0   \n",
       "4   8           0  25.807401  0.154801     3.995       2           0   \n",
       "\n",
       "   rating_weather  car_or_bus linha  \n",
       "0               0           1   NaN  \n",
       "1               0           1   NaN  \n",
       "2               0           2   NaN  \n",
       "3               0           2   NaN  \n",
       "4               0           1   NaN  "
      ]
     },
     "metadata": {},
     "output_type": "display_data"
    },
    {
     "name": "stdout",
     "output_type": "stream",
     "text": [
      "<class 'pandas.core.frame.DataFrame'>\n",
      "RangeIndex: 163 entries, 0 to 162\n",
      "Data columns (total 10 columns):\n",
      "id                163 non-null int64\n",
      "id_android        163 non-null int64\n",
      "speed             163 non-null float64\n",
      "time              163 non-null float64\n",
      "distance          163 non-null float64\n",
      "rating            163 non-null int64\n",
      "rating_bus        163 non-null int64\n",
      "rating_weather    163 non-null int64\n",
      "car_or_bus        163 non-null int64\n",
      "linha             80 non-null object\n",
      "dtypes: float64(3), int64(6), object(1)\n",
      "memory usage: 12.9+ KB\n"
     ]
    },
    {
     "data": {
      "text/plain": [
       "None"
      ]
     },
     "metadata": {},
     "output_type": "display_data"
    },
    {
     "data": {
      "text/html": [
       "<div>\n",
       "<style scoped>\n",
       "    .dataframe tbody tr th:only-of-type {\n",
       "        vertical-align: middle;\n",
       "    }\n",
       "\n",
       "    .dataframe tbody tr th {\n",
       "        vertical-align: top;\n",
       "    }\n",
       "\n",
       "    .dataframe thead th {\n",
       "        text-align: right;\n",
       "    }\n",
       "</style>\n",
       "<table border=\"1\" class=\"dataframe\">\n",
       "  <thead>\n",
       "    <tr style=\"text-align: right;\">\n",
       "      <th></th>\n",
       "      <th>id</th>\n",
       "      <th>id_android</th>\n",
       "      <th>speed</th>\n",
       "      <th>time</th>\n",
       "      <th>distance</th>\n",
       "      <th>rating</th>\n",
       "      <th>rating_bus</th>\n",
       "      <th>rating_weather</th>\n",
       "      <th>car_or_bus</th>\n",
       "    </tr>\n",
       "  </thead>\n",
       "  <tbody>\n",
       "    <tr>\n",
       "      <th>count</th>\n",
       "      <td>163.000000</td>\n",
       "      <td>163.000000</td>\n",
       "      <td>163.000000</td>\n",
       "      <td>163.000000</td>\n",
       "      <td>163.000000</td>\n",
       "      <td>163.000000</td>\n",
       "      <td>163.000000</td>\n",
       "      <td>163.000000</td>\n",
       "      <td>163.000000</td>\n",
       "    </tr>\n",
       "    <tr>\n",
       "      <th>mean</th>\n",
       "      <td>15607.650307</td>\n",
       "      <td>7.386503</td>\n",
       "      <td>16.704738</td>\n",
       "      <td>0.264272</td>\n",
       "      <td>5.302411</td>\n",
       "      <td>2.515337</td>\n",
       "      <td>0.386503</td>\n",
       "      <td>0.515337</td>\n",
       "      <td>1.466258</td>\n",
       "    </tr>\n",
       "    <tr>\n",
       "      <th>std</th>\n",
       "      <td>18644.257138</td>\n",
       "      <td>7.348742</td>\n",
       "      <td>16.016168</td>\n",
       "      <td>0.292731</td>\n",
       "      <td>7.639011</td>\n",
       "      <td>0.679105</td>\n",
       "      <td>0.687859</td>\n",
       "      <td>0.841485</td>\n",
       "      <td>0.500397</td>\n",
       "    </tr>\n",
       "    <tr>\n",
       "      <th>min</th>\n",
       "      <td>1.000000</td>\n",
       "      <td>0.000000</td>\n",
       "      <td>0.009779</td>\n",
       "      <td>0.002175</td>\n",
       "      <td>0.001000</td>\n",
       "      <td>1.000000</td>\n",
       "      <td>0.000000</td>\n",
       "      <td>0.000000</td>\n",
       "      <td>1.000000</td>\n",
       "    </tr>\n",
       "    <tr>\n",
       "      <th>25%</th>\n",
       "      <td>48.500000</td>\n",
       "      <td>1.000000</td>\n",
       "      <td>1.591016</td>\n",
       "      <td>0.035978</td>\n",
       "      <td>0.034500</td>\n",
       "      <td>2.000000</td>\n",
       "      <td>0.000000</td>\n",
       "      <td>0.000000</td>\n",
       "      <td>1.000000</td>\n",
       "    </tr>\n",
       "    <tr>\n",
       "      <th>50%</th>\n",
       "      <td>158.000000</td>\n",
       "      <td>4.000000</td>\n",
       "      <td>16.685368</td>\n",
       "      <td>0.214466</td>\n",
       "      <td>3.995000</td>\n",
       "      <td>3.000000</td>\n",
       "      <td>0.000000</td>\n",
       "      <td>0.000000</td>\n",
       "      <td>1.000000</td>\n",
       "    </tr>\n",
       "    <tr>\n",
       "      <th>75%</th>\n",
       "      <td>37991.000000</td>\n",
       "      <td>10.000000</td>\n",
       "      <td>23.915760</td>\n",
       "      <td>0.390572</td>\n",
       "      <td>7.333000</td>\n",
       "      <td>3.000000</td>\n",
       "      <td>1.000000</td>\n",
       "      <td>1.000000</td>\n",
       "      <td>2.000000</td>\n",
       "    </tr>\n",
       "    <tr>\n",
       "      <th>max</th>\n",
       "      <td>38092.000000</td>\n",
       "      <td>27.000000</td>\n",
       "      <td>96.206029</td>\n",
       "      <td>1.942948</td>\n",
       "      <td>55.770000</td>\n",
       "      <td>3.000000</td>\n",
       "      <td>3.000000</td>\n",
       "      <td>2.000000</td>\n",
       "      <td>2.000000</td>\n",
       "    </tr>\n",
       "  </tbody>\n",
       "</table>\n",
       "</div>"
      ],
      "text/plain": [
       "                 id  id_android       speed        time    distance  \\\n",
       "count    163.000000  163.000000  163.000000  163.000000  163.000000   \n",
       "mean   15607.650307    7.386503   16.704738    0.264272    5.302411   \n",
       "std    18644.257138    7.348742   16.016168    0.292731    7.639011   \n",
       "min        1.000000    0.000000    0.009779    0.002175    0.001000   \n",
       "25%       48.500000    1.000000    1.591016    0.035978    0.034500   \n",
       "50%      158.000000    4.000000   16.685368    0.214466    3.995000   \n",
       "75%    37991.000000   10.000000   23.915760    0.390572    7.333000   \n",
       "max    38092.000000   27.000000   96.206029    1.942948   55.770000   \n",
       "\n",
       "           rating  rating_bus  rating_weather  car_or_bus  \n",
       "count  163.000000  163.000000      163.000000  163.000000  \n",
       "mean     2.515337    0.386503        0.515337    1.466258  \n",
       "std      0.679105    0.687859        0.841485    0.500397  \n",
       "min      1.000000    0.000000        0.000000    1.000000  \n",
       "25%      2.000000    0.000000        0.000000    1.000000  \n",
       "50%      3.000000    0.000000        0.000000    1.000000  \n",
       "75%      3.000000    1.000000        1.000000    2.000000  \n",
       "max      3.000000    3.000000        2.000000    2.000000  "
      ]
     },
     "metadata": {},
     "output_type": "display_data"
    }
   ],
   "source": [
    "# Load dataset\n",
    "tracks = pd.read_csv(\"GPS Trajectory/go_track_tracks.csv\")# load the tracks dataset\n",
    "print(\"dataset shape:\", tracks.shape) # print the shape of the data inside print function\n",
    "display(tracks.head()) # show first 10 rows of the data\n",
    "display(tracks.info()) # show some information of the data\n",
    "display(tracks.describe()) # show some statistics summaries of the data"
   ]
  },
  {
   "cell_type": "code",
   "execution_count": 6,
   "metadata": {},
   "outputs": [],
   "source": [
    "# use only columns [\"id\", \"id_android\", \"speed\", \"distance\"]\n",
    "data = tracks[[\"id\", \"id_android\", \"speed\", \"distance\"]]"
   ]
  },
  {
   "cell_type": "code",
   "execution_count": 7,
   "metadata": {},
   "outputs": [
    {
     "data": {
      "text/plain": [
       "<matplotlib.collections.PathCollection at 0x1a23f2d490>"
      ]
     },
     "execution_count": 7,
     "metadata": {},
     "output_type": "execute_result"
    },
    {
     "data": {
      "image/png": "[encoded data removed]",
      "text/plain": [
       "<Figure size 432x288 with 1 Axes>"
      ]
     },
     "metadata": {
      "needs_background": "light"
     },
     "output_type": "display_data"
    }
   ],
   "source": [
    "# plot the data with x-axis is speed, y-axis is distance\n",
    "plt.scatter(data['speed'], data['distance'])"
   ]
  },
  {
   "cell_type": "code",
   "execution_count": 56,
   "metadata": {},
   "outputs": [],
   "source": [
    "# convert dataframe to numpy array\n",
    "X = np.array(data[['speed', 'distance']])"
   ]
  },
  {
   "cell_type": "code",
   "execution_count": 62,
   "metadata": {},
   "outputs": [],
   "source": [
    "# define the KMeans instance\n",
    "n_clusters = 3\n",
    "kmeans = KMeans(n_clusters=n_clusters, random_state=111).fit(X)"
   ]
  },
  {
   "cell_type": "code",
   "execution_count": 63,
   "metadata": {},
   "outputs": [
    {
     "name": "stdout",
     "output_type": "stream",
     "text": [
      "[[22.82972069  6.90296703]\n",
      " [ 3.02404178  1.15501515]\n",
      " [74.29682468 26.64866667]]\n"
     ]
    }
   ],
   "source": [
    "# print the centers for each clusters\n",
    "print(kmeans.cluster_centers_)"
   ]
  },
  {
   "cell_type": "code",
   "execution_count": 64,
   "metadata": {},
   "outputs": [
    {
     "name": "stderr",
     "output_type": "stream",
     "text": [
      "/Users/d-wdj/miniconda3/envs/h8/lib/python3.7/site-packages/ipykernel_launcher.py:2: SettingWithCopyWarning: \n",
      "A value is trying to be set on a copy of a slice from a DataFrame.\n",
      "Try using .loc[row_indexer,col_indexer] = value instead\n",
      "\n",
      "See the caveats in the documentation: http://pandas.pydata.org/pandas-docs/stable/user_guide/indexing.html#returning-a-view-versus-a-copy\n",
      "  \n"
     ]
    }
   ],
   "source": [
    "# add cluster labels to dataframe\n",
    "data['Clusters'] = kmeans.labels_"
   ]
  },
  {
   "cell_type": "code",
   "execution_count": 65,
   "metadata": {},
   "outputs": [
    {
     "data": {
      "text/plain": [
       "{0, 1, 2}"
      ]
     },
     "execution_count": 65,
     "metadata": {},
     "output_type": "execute_result"
    }
   ],
   "source": [
    "set(data['Clusters'])"
   ]
  },
  {
   "cell_type": "code",
   "execution_count": 86,
   "metadata": {},
   "outputs": [
    {
     "data": {
      "text/plain": [
       "<matplotlib.legend.Legend at 0x1a28200810>"
      ]
     },
     "execution_count": 86,
     "metadata": {},
     "output_type": "execute_result"
    },
    {
     "data": {
      "image/png": "[encoded data removed]",
      "text/plain": [
       "<Figure size 504x360 with 1 Axes>"
      ]
     },
     "metadata": {
      "needs_background": "light"
     },
     "output_type": "display_data"
    }
   ],
   "source": [
    "# visualize kmeans results\n",
    "color = {n: c for n, c in enumerate(['b', 'r', 'c' ,'r','m', 'k', 'y', '#FFC0CB'])}\n",
    "fig = plt.figure(figsize=(7,5))\n",
    "for i in range(n_clusters):\n",
    "    plt.scatter(data[data['Clusters'] == i]['speed'], \n",
    "                data[data['Clusters'] == i]['distance'],\n",
    "                c=color[i], label=f'Clust{i}')\n",
    "plt.scatter(centers[:,0], centers[:,1], c='k', marker='+', s=150, alpha=1, label='Centroids')\n",
    "plt.legend()"
   ]
  },
  {
   "cell_type": "markdown",
   "metadata": {},
   "source": [
    "## So, how does K-means work?\n",
    "\n",
    "Before fitting the KMeans model, we need to set some the number of clusters, `K`. This number will also determine the number of **center of clusters**, called **centroids** to be assigned. Here's one method for computing k-means:\n",
    "\n",
    "1. Randomly place `k` centroids amongst the data\n",
    "\n",
    "2. Then, within a loop until **convergence**, perform the following steps:\n",
    "\n",
    "    2.1 Assign each point to the closest centroids\n",
    "    \n",
    "    2.2 Move the centroids to the center of the points assigned to it"
   ]
  },
  {
   "cell_type": "markdown",
   "metadata": {},
   "source": [
    "## How about the metrics?\n",
    "\n",
    "Since k-means is unsupervised technique, we need to do some workaround to measure the performance. The tangible way is to use **elbow method** with **scree plot**."
   ]
  },
  {
   "cell_type": "code",
   "execution_count": 104,
   "metadata": {},
   "outputs": [],
   "source": [
    "# plot kmeans properties, `intertia_`\n",
    "inertiaScore = []\n",
    "for nc in range(1, 31):\n",
    "    kmeans = KMeans(n_clusters=nc, random_state=111).fit(X)\n",
    "    inertiaScore.append(kmeans.inertia_)\n",
    "# kmeans.inertia_"
   ]
  },
  {
   "cell_type": "code",
   "execution_count": 110,
   "metadata": {},
   "outputs": [
    {
     "data": {
      "text/plain": [
       "30"
      ]
     },
     "execution_count": 110,
     "metadata": {},
     "output_type": "execute_result"
    }
   ],
   "source": [
    "len(inertiaScore)"
   ]
  },
  {
   "cell_type": "code",
   "execution_count": 109,
   "metadata": {},
   "outputs": [
    {
     "data": {
      "text/plain": [
       "Text(0, 0.5, 'Inertia Score')"
      ]
     },
     "execution_count": 109,
     "metadata": {},
     "output_type": "execute_result"
    },
    {
     "data": {
      "image/png": "[encoded data removed]",
      "text/plain": [
       "<Figure size 648x216 with 1 Axes>"
      ]
     },
     "metadata": {
      "needs_background": "light"
     },
     "output_type": "display_data"
    }
   ],
   "source": [
    "fig = plt.figure(figsize=(9, 3))\n",
    "plt.plot(range(len(inertiaScore)), inertiaScore, 'rx')\n",
    "plt.plot(range(len(inertiaScore)), inertiaScore, 'b-')\n",
    "plt.xlabel('No. of Clusters')\n",
    "plt.ylabel('Inertia Score')"
   ]
  },
  {
   "cell_type": "code",
   "execution_count": null,
   "metadata": {},
   "outputs": [],
   "source": []
  },
  {
   "cell_type": "code",
   "execution_count": 144,
   "metadata": {},
   "outputs": [],
   "source": [
    "from sklearn.datasets import make_blobs, make_circles, make_moons"
   ]
  },
  {
   "cell_type": "code",
   "execution_count": 123,
   "metadata": {},
   "outputs": [],
   "source": [
    "X, y = make_blobs(n_samples=150, n_features=2, centers=3, cluster_std=.7, \n",
    "                  shuffle=True, random_state=0)"
   ]
  },
  {
   "cell_type": "code",
   "execution_count": 124,
   "metadata": {},
   "outputs": [
    {
     "data": {
      "text/plain": [
       "<matplotlib.collections.PathCollection at 0x1a29cdf690>"
      ]
     },
     "execution_count": 124,
     "metadata": {},
     "output_type": "execute_result"
    },
    {
     "data": {
      "image/png": "[encoded data removed]",
      "text/plain": [
       "<Figure size 432x288 with 1 Axes>"
      ]
     },
     "metadata": {
      "needs_background": "light"
     },
     "output_type": "display_data"
    }
   ],
   "source": [
    "plt.scatter(X[:,0], X[:, 1], c='blue', marker='^')"
   ]
  },
  {
   "cell_type": "code",
   "execution_count": 125,
   "metadata": {},
   "outputs": [],
   "source": [
    "inertiaScore = []\n",
    "for nc in range(1, 11):\n",
    "    kmeans = KMeans(n_clusters=nc, random_state=111).fit(X)\n",
    "    inertiaScore.append(kmeans.inertia_)"
   ]
  },
  {
   "cell_type": "code",
   "execution_count": 126,
   "metadata": {},
   "outputs": [
    {
     "data": {
      "text/plain": [
       "Text(0, 0.5, 'Inertia Score')"
      ]
     },
     "execution_count": 126,
     "metadata": {},
     "output_type": "execute_result"
    },
    {
     "data": {
      "image/png": "[encoded data removed]",
      "text/plain": [
       "<Figure size 648x216 with 1 Axes>"
      ]
     },
     "metadata": {
      "needs_background": "light"
     },
     "output_type": "display_data"
    }
   ],
   "source": [
    "fig = plt.figure(figsize=(9, 3))\n",
    "plt.plot(range(len(inertiaScore)), inertiaScore, 'rx')\n",
    "plt.plot(range(len(inertiaScore)), inertiaScore, 'b-')\n",
    "plt.xlabel('No. of Clusters')\n",
    "plt.ylabel('Inertia Score')"
   ]
  },
  {
   "cell_type": "code",
   "execution_count": 171,
   "metadata": {},
   "outputs": [],
   "source": [
    "X, y = make_circles(n_samples=150, random_state=111, factor=.5, noise=0.03)"
   ]
  },
  {
   "cell_type": "code",
   "execution_count": 169,
   "metadata": {},
   "outputs": [
    {
     "data": {
      "text/plain": [
       "<matplotlib.collections.PathCollection at 0x1a2af4e850>"
      ]
     },
     "execution_count": 169,
     "metadata": {},
     "output_type": "execute_result"
    },
    {
     "data": {
      "image/png": "[encoded data removed]",
      "text/plain": [
       "<Figure size 432x288 with 1 Axes>"
      ]
     },
     "metadata": {
      "needs_background": "light"
     },
     "output_type": "display_data"
    }
   ],
   "source": [
    "plt.scatter(X[:, 0], X[:, 1])"
   ]
  },
  {
   "cell_type": "code",
   "execution_count": 166,
   "metadata": {},
   "outputs": [
    {
     "data": {
      "text/plain": [
       "Text(0, 0.5, 'Inertia Score')"
      ]
     },
     "execution_count": 166,
     "metadata": {},
     "output_type": "execute_result"
    },
    {
     "data": {
      "image/png": "[encoded data removed]",
      "text/plain": [
       "<Figure size 648x216 with 1 Axes>"
      ]
     },
     "metadata": {
      "needs_background": "light"
     },
     "output_type": "display_data"
    }
   ],
   "source": [
    "inertiaScore = []\n",
    "for nc in range(1, 21):\n",
    "    kmeans = KMeans(n_clusters=nc).fit(X)\n",
    "    inertiaScore.append(kmeans.inertia_)\n",
    "fig = plt.figure(figsize=(9, 3))\n",
    "plt.plot(range(len(inertiaScore)), inertiaScore, 'rx')\n",
    "plt.plot(range(len(inertiaScore)), inertiaScore, 'b-')\n",
    "plt.xlabel('No. of Clusters')\n",
    "plt.ylabel('Inertia Score')"
   ]
  },
  {
   "cell_type": "code",
   "execution_count": 174,
   "metadata": {},
   "outputs": [
    {
     "name": "stdout",
     "output_type": "stream",
     "text": [
      "(150, 4)\n"
     ]
    },
    {
     "data": {
      "text/plain": [
       "<matplotlib.collections.PathCollection at 0x1a2cba9790>"
      ]
     },
     "execution_count": 174,
     "metadata": {},
     "output_type": "execute_result"
    },
    {
     "data": {
      "image/png": "[encoded data removed]",
      "text/plain": [
       "<Figure size 432x288 with 1 Axes>"
      ]
     },
     "metadata": {
      "needs_background": "light"
     },
     "output_type": "display_data"
    }
   ],
   "source": [
    "kmeans = KMeans(n_clusters=2).fit(X)\n",
    "X = np.concatenate((X, np.array(kmeans.labels_)[:, None]), axis=1)\n",
    "\n",
    "print (X.shape)\n",
    "plt.scatter(X[X[:, 2]==1, 0], X[X[:, 2]==1, 1], c='r')\n",
    "plt.scatter(X[X[:, 2]==0, 0], X[X[:, 2]==0, 1], c='b')\n",
    "# fig = plt.figure(figsize=(7,5))\n",
    "# for i in range(n_clusters):\n",
    "#     plt.scatter(data[data['Clusters'] == i]['speed'], \n",
    "#                 data[data['Clusters'] == i]['distance'],\n",
    "#                 c=color[i], label=f'Clust{i}')\n",
    "# plt.scatter(centers[:,0], centers[:,1], c='k', marker='+', s=150, alpha=1, label='Centroids')\n",
    "# plt.legend()"
   ]
  },
  {
   "cell_type": "code",
   "execution_count": 175,
   "metadata": {},
   "outputs": [
    {
     "data": {
      "text/plain": [
       "<matplotlib.collections.PathCollection at 0x1a2ccb6d10>"
      ]
     },
     "execution_count": 175,
     "metadata": {},
     "output_type": "execute_result"
    },
    {
     "data": {
      "image/png": "[encoded data removed]",
      "text/plain": [
       "<Figure size 432x288 with 1 Axes>"
      ]
     },
     "metadata": {
      "needs_background": "light"
     },
     "output_type": "display_data"
    }
   ],
   "source": [
    "X, y = make_moons(noise=0.03, n_samples=1500)\n",
    "plt.scatter(X[:, 0], X[:, 1])"
   ]
  },
  {
   "cell_type": "code",
   "execution_count": 154,
   "metadata": {},
   "outputs": [
    {
     "data": {
      "text/plain": [
       "Text(0, 0.5, 'Inertia Score')"
      ]
     },
     "execution_count": 154,
     "metadata": {},
     "output_type": "execute_result"
    },
    {
     "data": {
      "image/png": "[encoded data removed]",
      "text/plain": [
       "<Figure size 648x216 with 1 Axes>"
      ]
     },
     "metadata": {
      "needs_background": "light"
     },
     "output_type": "display_data"
    }
   ],
   "source": [
    "# inertiaScore = []\n",
    "# for nc in range(1, 21):\n",
    "#     kmeans = KMeans(n_clusters=nc).fit(X)\n",
    "#     inertiaScore.append(kmeans.inertia_)\n",
    "# fig = plt.figure(figsize=(9, 3))\n",
    "# plt.plot(range(len(inertiaScore)), inertiaScore, 'rx')\n",
    "# plt.plot(range(len(inertiaScore)), inertiaScore, 'b-')\n",
    "# plt.xlabel('No. of Clusters')\n",
    "# plt.ylabel('Inertia Score')"
   ]
  },
  {
   "cell_type": "code",
   "execution_count": 176,
   "metadata": {},
   "outputs": [],
   "source": [
    "from sklearn.preprocessing import MinMaxScaler, StandardScaler"
   ]
  },
  {
   "cell_type": "code",
   "execution_count": 177,
   "metadata": {},
   "outputs": [],
   "source": [
    "X = data[['speed', 'distance']]"
   ]
  },
  {
   "cell_type": "code",
   "execution_count": 182,
   "metadata": {},
   "outputs": [],
   "source": [
    "minmax = MinMaxScaler()\n",
    "std_scaler = StandardScaler()"
   ]
  },
  {
   "cell_type": "code",
   "execution_count": 215,
   "metadata": {},
   "outputs": [
    {
     "data": {
      "text/plain": [
       "Text(0.5, 1.0, 'ScreePlot-ElbowMethod - MinMaxScaler')"
      ]
     },
     "execution_count": 215,
     "metadata": {},
     "output_type": "execute_result"
    },
    {
     "data": {
      "image/png": "[encoded data removed]",
      "text/plain": [
       "<Figure size 648x216 with 1 Axes>"
      ]
     },
     "metadata": {
      "needs_background": "light"
     },
     "output_type": "display_data"
    }
   ],
   "source": [
    "X_mmx = minmax.fit_transform(X)\n",
    "inertiaScore = []\n",
    "for nc in range(1, 31):\n",
    "    kmeans = KMeans(n_clusters=nc, random_state=111).fit(X_mmx)\n",
    "    inertiaScore.append(kmeans.inertia_)\n",
    "fig = plt.figure(figsize=(9, 3))\n",
    "plt.plot(range(len(inertiaScore)), inertiaScore, 'rx')\n",
    "plt.plot(range(len(inertiaScore)), inertiaScore, 'b-')\n",
    "plt.xticks(range(0, len(inertiaScore)+1))\n",
    "plt.xlabel('Cluster #')\n",
    "plt.ylabel('Inertia Score')\n",
    "plt.title('ScreePlot-ElbowMethod - MinMaxScaler')"
   ]
  },
  {
   "cell_type": "code",
   "execution_count": 218,
   "metadata": {},
   "outputs": [
    {
     "data": {
      "text/plain": [
       "Text(0.5, 1.0, 'MinMaxScaled')"
      ]
     },
     "execution_count": 218,
     "metadata": {},
     "output_type": "execute_result"
    },
    {
     "data": {
      "image/png": "[encoded data removed]",
      "text/plain": [
       "<Figure size 432x288 with 1 Axes>"
      ]
     },
     "metadata": {
      "needs_background": "light"
     },
     "output_type": "display_data"
    }
   ],
   "source": [
    "n_clusters = 4\n",
    "kmeans = KMeans(n_clusters=n_clusters, random_state=111).fit(X)\n",
    "X_mmx = np.concatenate((X_mmx, np.array(kmeans.labels_)[:, None]), axis=1)\n",
    "plt.scatter(X_mmx[X_mmx[:, 2]==1, 0], X_mmx[X_mmx[:, 2]==1, 1], c='r')\n",
    "plt.scatter(X_mmx[X_mmx[:, 2]==0, 0], X_mmx[X_mmx[:, 2]==0, 1], c='b')\n",
    "plt.scatter(X_mmx[X_mmx[:, 2]==2, 0], X_mmx[X_mmx[:, 2]==2, 1], c='g')\n",
    "plt.scatter(X_mmx[X_mmx[:, 2]==3, 0], X_mmx[X_mmx[:, 2]==3, 1], c='m')\n",
    "plt.title('MinMaxScaled')"
   ]
  },
  {
   "cell_type": "code",
   "execution_count": 219,
   "metadata": {},
   "outputs": [
    {
     "data": {
      "text/plain": [
       "Text(0.5, 1.0, 'ScreePlot-ElbowMethod - StandardScaler')"
      ]
     },
     "execution_count": 219,
     "metadata": {},
     "output_type": "execute_result"
    },
    {
     "data": {
      "image/png": "[encoded data removed]",
      "text/plain": [
       "<Figure size 648x216 with 1 Axes>"
      ]
     },
     "metadata": {
      "needs_background": "light"
     },
     "output_type": "display_data"
    }
   ],
   "source": [
    "X_ssc = std_scaler.fit_transform(X)\n",
    "inertiaScore = []\n",
    "for nc in range(1, 31):\n",
    "    kmeans = KMeans(n_clusters=nc, random_state=111).fit(X_ssc)\n",
    "    inertiaScore.append(kmeans.inertia_)\n",
    "fig = plt.figure(figsize=(9, 3))\n",
    "plt.plot(range(len(inertiaScore)), inertiaScore, 'rx')\n",
    "plt.plot(range(len(inertiaScore)), inertiaScore, 'b-')\n",
    "plt.xticks(range(0, len(inertiaScore)+1))\n",
    "plt.xlabel('Cluster #')\n",
    "plt.ylabel('Inertia Score')\n",
    "plt.title('ScreePlot-ElbowMethod - StandardScaler')\n"
   ]
  },
  {
   "cell_type": "code",
   "execution_count": 221,
   "metadata": {},
   "outputs": [
    {
     "data": {
      "text/plain": [
       "Text(0.5, 1.0, 'StdScaled')"
      ]
     },
     "execution_count": 221,
     "metadata": {},
     "output_type": "execute_result"
    },
    {
     "data": {
      "image/png": "[encoded data removed]",
      "text/plain": [
       "<Figure size 432x288 with 1 Axes>"
      ]
     },
     "metadata": {
      "needs_background": "light"
     },
     "output_type": "display_data"
    }
   ],
   "source": [
    "n_clusters = 4\n",
    "kmeans = KMeans(n_clusters=n_clusters, random_state=111).fit(X)\n",
    "X_ssc = np.concatenate((X_ssc, np.array(kmeans.labels_)[:, None]), axis=1)\n",
    "plt.scatter(X_ssc[X_ssc[:, 2]==1, 0], X_ssc[X_ssc[:, 2]==1, 1], c='r')\n",
    "plt.scatter(X_ssc[X_ssc[:, 2]==0, 0], X_ssc[X_ssc[:, 2]==0, 1], c='b')\n",
    "plt.scatter(X_ssc[X_ssc[:, 2]==2, 0], X_ssc[X_ssc[:, 2]==2, 1], c='g')\n",
    "plt.scatter(X_ssc[X_ssc[:, 2]==3, 0], X_ssc[X_ssc[:, 2]==3, 1], c='m')\n",
    "plt.title('StdScaled')"
   ]
  },
  {
   "cell_type": "code",
   "execution_count": null,
   "metadata": {},
   "outputs": [],
   "source": []
  }
 ],
 "metadata": {
  "kernelspec": {
   "display_name": "Python 3",
   "language": "python",
   "name": "python3"
  },
  "language_info": {
   "codemirror_mode": {
    "name": "ipython",
    "version": 3
   },
   "file_extension": ".py",
   "mimetype": "text/x-python",
   "name": "python",
   "nbconvert_exporter": "python",
   "pygments_lexer": "ipython3",
   "version": "3.7.5"
  }
 },
 "nbformat": 4,
 "nbformat_minor": 4
}
