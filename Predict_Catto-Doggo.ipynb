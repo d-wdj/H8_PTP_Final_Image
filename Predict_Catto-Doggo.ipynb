{
  "nbformat": 4,
  "nbformat_minor": 0,
  "metadata": {
    "colab": {
      "name": "Predict_Catto-Doggo",
      "provenance": []
    },
    "kernelspec": {
      "name": "python3",
      "display_name": "Python 3"
    }
  },
  "cells": [
    {
      "cell_type": "code",
      "metadata": {
        "id": "G6iETn5VDeGr",
        "colab_type": "code",
        "colab": {}
      },
      "source": [
        "%tensorflow_version 2.x\n",
        "import numpy as np\n",
        "import urllib.request as req\n",
        "import matplotlib.pyplot as plt\n",
        "from tensorflow.keras.utils import get_file\n",
        "from tensorflow.keras.models import load_model"
      ],
      "execution_count": 0,
      "outputs": []
    },
    {
      "cell_type": "markdown",
      "metadata": {
        "id": "TyIX9kc3Go4H",
        "colab_type": "text"
      },
      "source": [
        "# Catto-Doggo Prediction\n",
        "To predict, first download the model from my Google Drive (https://drive.google.com/file/d/1-IPqpVq043mdfOIZiQiJYpxyU_tswg_N/view?usp=sharing), mind you, it's about 1GB. Save that file to where you want it and change ```PATH/TO/MODEL.h5``` in the cell below to the appropriate location. Execute the ```predictCatDog``` function and specify the weblink as the ```pathToImage``` argument. \n",
        "You can do this online on Google Colab (which makes it easier, you can just add the model to your own Drive and load it from there), or offline (which is more hassle)."
      ]
    },
    {
      "cell_type": "code",
      "metadata": {
        "id": "AMR7HfRIEZyO",
        "colab_type": "code",
        "colab": {
          "base_uri": "https://localhost:8080/",
          "height": 34
        },
        "outputId": "f52d6c6f-0e32-421a-d2e7-7052b51d83a9"
      },
      "source": [
        "try:\n",
        "    model = load_model(\"PATH/TO/MODEL.h5\")\n",
        "except OSError:\n",
        "    print (\"Are you sure you have downloaded the model?\")"
      ],
      "execution_count": 10,
      "outputs": [
        {
          "output_type": "stream",
          "text": [
            "Are you sure you have downloaded the model?\n"
          ],
          "name": "stdout"
        }
      ]
    },
    {
      "cell_type": "code",
      "metadata": {
        "id": "cojsH3I1DyJr",
        "colab_type": "code",
        "colab": {
          "base_uri": "https://localhost:8080/",
          "height": 235
        },
        "outputId": "1b27d7ee-f1e0-46ce-c572-9f1e40bdf318"
      },
      "source": [
        "def predictCatDog(pathToImage, model=model):\n",
        "    with open('temp.png', 'wb') as f:\n",
        "        link = pathToImage\n",
        "        f.write(req.urlopen(link).read())\n",
        "    \"\"\"\n",
        "    Takes in an image in the local drive and predicts whether the object in the\n",
        "    picture is a dog or a cat. \n",
        "    Input: path to image in local drive, model is pre-selected from previous \n",
        "            section if it had not been chosen\n",
        "    Output: the image will be shown with the predicted class as the image title.\n",
        "    \"\"\"\n",
        "    from tensorflow.keras.preprocessing.image import load_img\n",
        "    target_size = model.input_shape[1:3]\n",
        "    imgToPredict = load_img('temp.png', \n",
        "                              target_size=target_size)\n",
        "    imgToPredict = np.asarray(imgToPredict)\n",
        "    plt.imshow(imgToPredict)\n",
        "    imgToPredict = np.expand_dims(imgToPredict, axis=0)\n",
        "    \n",
        "    prediction = labelName[model.predict_classes(imgToPredict)[0,0]]\n",
        "    plt.axis('off')\n",
        "    plt.yticks([])\n",
        "    plt.xticks([])\n",
        "    plt.tight_layout()\n",
        "    plt.title(f\"Prediction: {prediction}\")\n",
        "    plt.show()\n",
        "    return True"
      ],
      "execution_count": 11,
      "outputs": [
        {
          "output_type": "error",
          "ename": "NameError",
          "evalue": "ignored",
          "traceback": [
            "\u001b[0;31m---------------------------------------------------------------------------\u001b[0m",
            "\u001b[0;31mNameError\u001b[0m                                 Traceback (most recent call last)",
            "\u001b[0;32m<ipython-input-11-240fe3805951>\u001b[0m in \u001b[0;36m<module>\u001b[0;34m()\u001b[0m\n\u001b[0;32m----> 1\u001b[0;31m \u001b[0;32mdef\u001b[0m \u001b[0mpredictCatDog\u001b[0m\u001b[0;34m(\u001b[0m\u001b[0mpathToImage\u001b[0m\u001b[0;34m,\u001b[0m \u001b[0mmodel\u001b[0m\u001b[0;34m=\u001b[0m\u001b[0mmodel\u001b[0m\u001b[0;34m)\u001b[0m\u001b[0;34m:\u001b[0m\u001b[0;34m\u001b[0m\u001b[0;34m\u001b[0m\u001b[0m\n\u001b[0m\u001b[1;32m      2\u001b[0m     \u001b[0;32mwith\u001b[0m \u001b[0mopen\u001b[0m\u001b[0;34m(\u001b[0m\u001b[0;34m'temp.png'\u001b[0m\u001b[0;34m,\u001b[0m \u001b[0;34m'wb'\u001b[0m\u001b[0;34m)\u001b[0m \u001b[0;32mas\u001b[0m \u001b[0mf\u001b[0m\u001b[0;34m:\u001b[0m\u001b[0;34m\u001b[0m\u001b[0;34m\u001b[0m\u001b[0m\n\u001b[1;32m      3\u001b[0m         \u001b[0mlink\u001b[0m \u001b[0;34m=\u001b[0m \u001b[0mpathToImage\u001b[0m\u001b[0;34m\u001b[0m\u001b[0;34m\u001b[0m\u001b[0m\n\u001b[1;32m      4\u001b[0m         \u001b[0mf\u001b[0m\u001b[0;34m.\u001b[0m\u001b[0mwrite\u001b[0m\u001b[0;34m(\u001b[0m\u001b[0mreq\u001b[0m\u001b[0;34m.\u001b[0m\u001b[0murlopen\u001b[0m\u001b[0;34m(\u001b[0m\u001b[0mlink\u001b[0m\u001b[0;34m)\u001b[0m\u001b[0;34m.\u001b[0m\u001b[0mread\u001b[0m\u001b[0;34m(\u001b[0m\u001b[0;34m)\u001b[0m\u001b[0;34m)\u001b[0m\u001b[0;34m\u001b[0m\u001b[0;34m\u001b[0m\u001b[0m\n\u001b[1;32m      5\u001b[0m     \"\"\"\n",
            "\u001b[0;31mNameError\u001b[0m: name 'model' is not defined"
          ]
        }
      ]
    },
    {
      "cell_type": "code",
      "metadata": {
        "id": "JmHSBxKYHyYT",
        "colab_type": "code",
        "colab": {}
      },
      "source": [
        ""
      ],
      "execution_count": 0,
      "outputs": []
    }
  ]
}