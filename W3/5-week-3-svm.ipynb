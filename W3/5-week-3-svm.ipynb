{
 "cells": [
  {
   "cell_type": "markdown",
   "metadata": {},
   "source": [
    "# Support Vector Machine\n",
    "\n",
    "Let's draw two plot of the same data and try answer this question.\n",
    "\n",
    "- Which one is the line that separates the points better?\n",
    "\n",
    "As a preview, this is how Support Vector Machine (SVM) works. It gives a line that separates the points with the greatest distance.\n",
    "\n",
    "SVM extend the criteria of classificaton a bit further, from giving a line that separates the points, to create one which is far away from the points as possible. We do this by creating two more lines which is equidistant parallel lines to the main line, and we try to **maximise** the distance between these two or the **margin** between them.\n",
    "\n",
    "![](../python-for-data-science/assets/img/svm-boundary.png)\n",
    "\n",
    "Now, the error function now become a bit more complex, that is\n",
    "$$\n",
    "error = \\text{classification error} + \\text{margin error}\n",
    "$$"
   ]
  },
  {
   "cell_type": "markdown",
   "metadata": {},
   "source": [
    "## SVM in Scikit-Learn"
   ]
  },
  {
   "cell_type": "code",
   "execution_count": 50,
   "metadata": {},
   "outputs": [],
   "source": [
    "from sklearn.svm import SVC, LinearSVC\n",
    "import matplotlib.pyplot as plt\n",
    "import numpy as np\n",
    "import pandas as pd\n",
    "from sklearn import metrics\n",
    "from sklearn.model_selection import train_test_split\n",
    "from sklearn.datasets import load_iris"
   ]
  },
  {
   "cell_type": "code",
   "execution_count": 6,
   "metadata": {},
   "outputs": [],
   "source": [
    "data = pd.read_csv(\"data.csv\", names=['x1', 'x2', 'label'])"
   ]
  },
  {
   "cell_type": "code",
   "execution_count": 14,
   "metadata": {},
   "outputs": [],
   "source": [
    "X = data[['x1', 'x2']].values\n",
    "y = data['label'].values"
   ]
  },
  {
   "cell_type": "code",
   "execution_count": 20,
   "metadata": {},
   "outputs": [],
   "source": [
    "X_train, X_test, y_train, y_test = train_test_split(X, y, test_size=0.25, random_state=111)"
   ]
  },
  {
   "cell_type": "code",
   "execution_count": 35,
   "metadata": {},
   "outputs": [],
   "source": [
    "linear_svm = SVC(kernel='linear')\n",
    "poly_svm = SVC(kernel='poly', degree=4)\n",
    "rbf_svm = SVC(kernel='rbf')\n",
    "# sigmoid_svm = SVC(kernel='sigmoid')\n"
   ]
  },
  {
   "cell_type": "code",
   "execution_count": 39,
   "metadata": {},
   "outputs": [
    {
     "name": "stdout",
     "output_type": "stream",
     "text": [
      "Kernel: linear\n",
      "Training Acc Score 0.7083333333333334\n",
      "Test Acc Score 0.6527777777777778\n",
      "Kernel: poly\n",
      "Training Acc Score 0.7083333333333334\n",
      "Test Acc Score 0.6527777777777778\n",
      "Kernel: rbf\n",
      "Training Acc Score 0.7083333333333334\n",
      "Test Acc Score 0.6527777777777778\n"
     ]
    },
    {
     "name": "stderr",
     "output_type": "stream",
     "text": [
      "/Users/d-wdj/miniconda3/envs/h8/lib/python3.7/site-packages/sklearn/svm/base.py:193: FutureWarning: The default value of gamma will change from 'auto' to 'scale' in version 0.22 to account better for unscaled features. Set gamma explicitly to 'auto' or 'scale' to avoid this warning.\n",
      "  \"avoid this warning.\", FutureWarning)\n",
      "/Users/d-wdj/miniconda3/envs/h8/lib/python3.7/site-packages/sklearn/svm/base.py:193: FutureWarning: The default value of gamma will change from 'auto' to 'scale' in version 0.22 to account better for unscaled features. Set gamma explicitly to 'auto' or 'scale' to avoid this warning.\n",
      "  \"avoid this warning.\", FutureWarning)\n"
     ]
    }
   ],
   "source": [
    "for model in [linear_svm, poly_svm, rbf_svm]:\n",
    "    model.fit(X_train, y_train)\n",
    "    train_acc_score = metrics.accuracy_score(y_test, model.predict(X_test))\n",
    "    test_acc_score = metrics.accuracy_score(y_train, model.predict(X_train))\n",
    "    print ('Kernel:', model.kernel)\n",
    "    print ('Training Acc Score', train_acc_score)\n",
    "    print ('Test Acc Score', test_acc_score)"
   ]
  },
  {
   "cell_type": "code",
   "execution_count": 43,
   "metadata": {},
   "outputs": [
    {
     "name": "stderr",
     "output_type": "stream",
     "text": [
      "/Users/d-wdj/miniconda3/envs/h8/lib/python3.7/site-packages/sklearn/svm/base.py:193: FutureWarning: The default value of gamma will change from 'auto' to 'scale' in version 0.22 to account better for unscaled features. Set gamma explicitly to 'auto' or 'scale' to avoid this warning.\n",
      "  \"avoid this warning.\", FutureWarning)\n"
     ]
    },
    {
     "name": "stdout",
     "output_type": "stream",
     "text": [
      "Train Acc Score 0.7222222222222222\n",
      "Test Acc Score 0.7083333333333334\n"
     ]
    }
   ],
   "source": [
    "model = SVC(kernel='poly', C=10**8, degree=4)\n",
    "model.fit(X_train, y_train)\n",
    "# y_pred = model.predict(X_test)\n",
    "print ('Train Acc Score', metrics.accuracy_score(y_train, model.predict(X_train)))\n",
    "print ('Test Acc Score', metrics.accuracy_score(y_test, model.predict(X_test)))"
   ]
  },
  {
   "cell_type": "code",
   "execution_count": null,
   "metadata": {},
   "outputs": [],
   "source": []
  },
  {
   "cell_type": "code",
   "execution_count": null,
   "metadata": {},
   "outputs": [],
   "source": []
  },
  {
   "cell_type": "code",
   "execution_count": 46,
   "metadata": {},
   "outputs": [
    {
     "data": {
      "text/plain": [
       "dict_keys(['data', 'target', 'target_names', 'DESCR', 'feature_names', 'filename'])"
      ]
     },
     "execution_count": 46,
     "metadata": {},
     "output_type": "execute_result"
    }
   ],
   "source": [
    "iris = load_iris()\n",
    "iris.keys()"
   ]
  },
  {
   "cell_type": "code",
   "execution_count": 55,
   "metadata": {},
   "outputs": [],
   "source": [
    "X = iris.data\n",
    "y = iris.target\n",
    "X_train, X_test, y_train, y_test = train_test_split(X, y, test_size=0.25, random_state=1111)"
   ]
  },
  {
   "cell_type": "code",
   "execution_count": 56,
   "metadata": {},
   "outputs": [
    {
     "name": "stdout",
     "output_type": "stream",
     "text": [
      "Kernel: linear\n",
      "Training Acc Score 0.9736842105263158\n",
      "Test Acc Score 0.9910714285714286\n",
      "Kernel: poly\n",
      "Training Acc Score 0.9473684210526315\n",
      "Test Acc Score 0.9910714285714286\n",
      "Kernel: rbf\n",
      "Training Acc Score 0.9736842105263158\n",
      "Test Acc Score 0.9821428571428571\n"
     ]
    },
    {
     "name": "stderr",
     "output_type": "stream",
     "text": [
      "/Users/d-wdj/miniconda3/envs/h8/lib/python3.7/site-packages/sklearn/svm/base.py:193: FutureWarning: The default value of gamma will change from 'auto' to 'scale' in version 0.22 to account better for unscaled features. Set gamma explicitly to 'auto' or 'scale' to avoid this warning.\n",
      "  \"avoid this warning.\", FutureWarning)\n",
      "/Users/d-wdj/miniconda3/envs/h8/lib/python3.7/site-packages/sklearn/svm/base.py:193: FutureWarning: The default value of gamma will change from 'auto' to 'scale' in version 0.22 to account better for unscaled features. Set gamma explicitly to 'auto' or 'scale' to avoid this warning.\n",
      "  \"avoid this warning.\", FutureWarning)\n"
     ]
    }
   ],
   "source": [
    "for model in [linear_svm, poly_svm, rbf_svm]:\n",
    "    model.fit(X_train, y_train)\n",
    "    train_acc_score = metrics.accuracy_score(y_test, model.predict(X_test))\n",
    "    test_acc_score = metrics.accuracy_score(y_train, model.predict(X_train))\n",
    "    print ('Kernel:', model.kernel)\n",
    "    print ('Training Acc Score', train_acc_score)\n",
    "    print ('Test Acc Score', test_acc_score)"
   ]
  },
  {
   "cell_type": "code",
   "execution_count": 57,
   "metadata": {},
   "outputs": [
    {
     "name": "stdout",
     "output_type": "stream",
     "text": [
      "Train 0.9736842105263158\n",
      "Test 0.9821428571428571\n"
     ]
    },
    {
     "name": "stderr",
     "output_type": "stream",
     "text": [
      "/Users/d-wdj/miniconda3/envs/h8/lib/python3.7/site-packages/sklearn/svm/base.py:929: ConvergenceWarning: Liblinear failed to converge, increase the number of iterations.\n",
      "  \"the number of iterations.\", ConvergenceWarning)\n"
     ]
    }
   ],
   "source": [
    "linSVC = LinearSVC(random_state=1111)\n",
    "linSVC.fit(X_train, y_train)\n",
    "print ('Train', metrics.accuracy_score(y_test, model.predict(X_test)))\n",
    "print ('Test', metrics.accuracy_score(y_train, model.predict(X_train)))"
   ]
  },
  {
   "cell_type": "code",
   "execution_count": null,
   "metadata": {},
   "outputs": [],
   "source": []
  }
 ],
 "metadata": {
  "kernelspec": {
   "display_name": "Python 3",
   "language": "python",
   "name": "python3"
  },
  "language_info": {
   "codemirror_mode": {
    "name": "ipython",
    "version": 3
   },
   "file_extension": ".py",
   "mimetype": "text/x-python",
   "name": "python",
   "nbconvert_exporter": "python",
   "pygments_lexer": "ipython3",
   "version": "3.7.5"
  }
 },
 "nbformat": 4,
 "nbformat_minor": 4
}
