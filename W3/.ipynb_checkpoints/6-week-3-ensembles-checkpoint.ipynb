{
 "cells": [
  {
   "cell_type": "markdown",
   "metadata": {},
   "source": [
    "# Ensembles Method\n",
    "\n",
    "In this topics, we will learn how to combine (or simply ensemble) the models we have tried in a way that makes combination of these models make better at predicting than the individual models.\n",
    "\n",
    "Commonly the \"weak\" learners we use are decision trees. In fact the default for most ensemble methods is a decision tree in sklearn. However, we can change this value to any of the models we have seen so far.\n",
    "\n",
    "## Why do we need to ensemble learner?\n",
    "\n",
    "There are two competing variables in finding a well fitting machine learning model: **Bias** and **Variance**.\n",
    "\n",
    "**Bias**: When a model has high bias, this means that means it doesn't do a good job of bending to the data. An example of an algorithm that usually has high bias is linear regression. Even with completely different datasets, we end up with the same line fit to the data. When models have high bias, this is bad.\n",
    "\n",
    "**Variance**: When a model has high variance, this means that it changes drastically to meet the needs of every point in our dataset. Linear models like the one above is low variance, but high bias. An example of an algorithm that tends to have a high variance and low bias is a decision tree (especially decision trees with no early stopping parameters). A decision tree, as a high variance algorithm, will attempt to split every point into it's own branch if possible. This is a trait of high variance, low bias algorithms - they are extremely flexible to fit exactly whatever data they see."
   ]
  },
  {
   "cell_type": "markdown",
   "metadata": {},
   "source": [
    "## Bootstrapping \n",
    "Take parts of data and generate multiple models. Then investigate each prediction\n",
    "and subsequently, take a consensus-based approach, either by averaging or\n",
    "by max voting.\n",
    "\n",
    "## Boosting\n",
    "As bootstrapping, but each model builds from the previous one with an additional term. \n",
    "Final prediction is based on the last model."
   ]
  },
  {
   "cell_type": "markdown",
   "metadata": {},
   "source": [
    "## Ensembles Method in Scikit-Learn"
   ]
  },
  {
   "cell_type": "code",
   "execution_count": 89,
   "metadata": {},
   "outputs": [],
   "source": [
    "from sklearn.ensemble import RandomForestClassifier, AdaBoostClassifier, BaggingClassifier\n",
    "from sklearn.tree import DecisionTreeClassifier\n",
    "import pandas as pd\n",
    "import numpy as np\n",
    "import matplotlib.pyplot as plt\n",
    "from sklearn.model_selection import train_test_split\n",
    "from sklearn import metrics\n",
    "from sklearn.feature_extraction.text import CountVectorizer\n",
    "from time import time"
   ]
  },
  {
   "cell_type": "code",
   "execution_count": 66,
   "metadata": {},
   "outputs": [
    {
     "data": {
      "text/html": [
       "<div>\n",
       "<style scoped>\n",
       "    .dataframe tbody tr th:only-of-type {\n",
       "        vertical-align: middle;\n",
       "    }\n",
       "\n",
       "    .dataframe tbody tr th {\n",
       "        vertical-align: top;\n",
       "    }\n",
       "\n",
       "    .dataframe thead th {\n",
       "        text-align: right;\n",
       "    }\n",
       "</style>\n",
       "<table border=\"1\" class=\"dataframe\">\n",
       "  <thead>\n",
       "    <tr style=\"text-align: right;\">\n",
       "      <th></th>\n",
       "      <th>label</th>\n",
       "      <th>message</th>\n",
       "    </tr>\n",
       "  </thead>\n",
       "  <tbody>\n",
       "    <tr>\n",
       "      <th>0</th>\n",
       "      <td>ham</td>\n",
       "      <td>Go until jurong point, crazy.. Available only ...</td>\n",
       "    </tr>\n",
       "    <tr>\n",
       "      <th>1</th>\n",
       "      <td>ham</td>\n",
       "      <td>Ok lar... Joking wif u oni...</td>\n",
       "    </tr>\n",
       "    <tr>\n",
       "      <th>2</th>\n",
       "      <td>spam</td>\n",
       "      <td>Free entry in 2 a wkly comp to win FA Cup fina...</td>\n",
       "    </tr>\n",
       "    <tr>\n",
       "      <th>3</th>\n",
       "      <td>ham</td>\n",
       "      <td>U dun say so early hor... U c already then say...</td>\n",
       "    </tr>\n",
       "    <tr>\n",
       "      <th>4</th>\n",
       "      <td>ham</td>\n",
       "      <td>Nah I don't think he goes to usf, he lives aro...</td>\n",
       "    </tr>\n",
       "  </tbody>\n",
       "</table>\n",
       "</div>"
      ],
      "text/plain": [
       "  label                                            message\n",
       "0   ham  Go until jurong point, crazy.. Available only ...\n",
       "1   ham                      Ok lar... Joking wif u oni...\n",
       "2  spam  Free entry in 2 a wkly comp to win FA Cup fina...\n",
       "3   ham  U dun say so early hor... U c already then say...\n",
       "4   ham  Nah I don't think he goes to usf, he lives aro..."
      ]
     },
     "metadata": {},
     "output_type": "display_data"
    },
    {
     "data": {
      "text/plain": [
       "<bound method DataFrame.info of      label                                            message\n",
       "0      ham  Go until jurong point, crazy.. Available only ...\n",
       "1      ham                      Ok lar... Joking wif u oni...\n",
       "2     spam  Free entry in 2 a wkly comp to win FA Cup fina...\n",
       "3      ham  U dun say so early hor... U c already then say...\n",
       "4      ham  Nah I don't think he goes to usf, he lives aro...\n",
       "...    ...                                                ...\n",
       "5567  spam  This is the 2nd time we have tried 2 contact u...\n",
       "5568   ham               Will ü b going to esplanade fr home?\n",
       "5569   ham  Pity, * was in mood for that. So...any other s...\n",
       "5570   ham  The guy did some bitching but I acted like i'd...\n",
       "5571   ham                         Rofl. Its true to its name\n",
       "\n",
       "[5572 rows x 2 columns]>"
      ]
     },
     "metadata": {},
     "output_type": "display_data"
    }
   ],
   "source": [
    "data = pd.read_csv(\"SMSSpamCollection.tsv\", names=['label', 'message'], sep='\\t')\n",
    "display (data.head())\n",
    "display (data.info)\n",
    "data['label'] = data.label.map({'ham': 0, 'spam': 1})"
   ]
  },
  {
   "cell_type": "code",
   "execution_count": 67,
   "metadata": {},
   "outputs": [],
   "source": [
    "X = data[['message']].values\n",
    "y = data[['label']].values"
   ]
  },
  {
   "cell_type": "code",
   "execution_count": 68,
   "metadata": {},
   "outputs": [],
   "source": [
    "vectorizer = CountVectorizer(stop_words='english')\n",
    "spam_vector = vectorizer.fit_transform(data[\"message\"])\n",
    "spam_features = vectorizer.get_feature_names()"
   ]
  },
  {
   "cell_type": "code",
   "execution_count": 69,
   "metadata": {},
   "outputs": [],
   "source": [
    "df_spam = pd.DataFrame(spam_vector.toarray(), columns=spam_features)"
   ]
  },
  {
   "cell_type": "code",
   "execution_count": 70,
   "metadata": {},
   "outputs": [
    {
     "data": {
      "text/html": [
       "<div>\n",
       "<style scoped>\n",
       "    .dataframe tbody tr th:only-of-type {\n",
       "        vertical-align: middle;\n",
       "    }\n",
       "\n",
       "    .dataframe tbody tr th {\n",
       "        vertical-align: top;\n",
       "    }\n",
       "\n",
       "    .dataframe thead th {\n",
       "        text-align: right;\n",
       "    }\n",
       "</style>\n",
       "<table border=\"1\" class=\"dataframe\">\n",
       "  <thead>\n",
       "    <tr style=\"text-align: right;\">\n",
       "      <th></th>\n",
       "      <th>00</th>\n",
       "      <th>000</th>\n",
       "      <th>000pes</th>\n",
       "      <th>008704050406</th>\n",
       "      <th>0089</th>\n",
       "      <th>0121</th>\n",
       "      <th>01223585236</th>\n",
       "      <th>01223585334</th>\n",
       "      <th>0125698789</th>\n",
       "      <th>02</th>\n",
       "      <th>...</th>\n",
       "      <th>zhong</th>\n",
       "      <th>zindgi</th>\n",
       "      <th>zoe</th>\n",
       "      <th>zogtorius</th>\n",
       "      <th>zoom</th>\n",
       "      <th>zouk</th>\n",
       "      <th>zyada</th>\n",
       "      <th>èn</th>\n",
       "      <th>ú1</th>\n",
       "      <th>〨ud</th>\n",
       "    </tr>\n",
       "  </thead>\n",
       "  <tbody>\n",
       "    <tr>\n",
       "      <th>0</th>\n",
       "      <td>0</td>\n",
       "      <td>0</td>\n",
       "      <td>0</td>\n",
       "      <td>0</td>\n",
       "      <td>0</td>\n",
       "      <td>0</td>\n",
       "      <td>0</td>\n",
       "      <td>0</td>\n",
       "      <td>0</td>\n",
       "      <td>0</td>\n",
       "      <td>...</td>\n",
       "      <td>0</td>\n",
       "      <td>0</td>\n",
       "      <td>0</td>\n",
       "      <td>0</td>\n",
       "      <td>0</td>\n",
       "      <td>0</td>\n",
       "      <td>0</td>\n",
       "      <td>0</td>\n",
       "      <td>0</td>\n",
       "      <td>0</td>\n",
       "    </tr>\n",
       "    <tr>\n",
       "      <th>1</th>\n",
       "      <td>0</td>\n",
       "      <td>0</td>\n",
       "      <td>0</td>\n",
       "      <td>0</td>\n",
       "      <td>0</td>\n",
       "      <td>0</td>\n",
       "      <td>0</td>\n",
       "      <td>0</td>\n",
       "      <td>0</td>\n",
       "      <td>0</td>\n",
       "      <td>...</td>\n",
       "      <td>0</td>\n",
       "      <td>0</td>\n",
       "      <td>0</td>\n",
       "      <td>0</td>\n",
       "      <td>0</td>\n",
       "      <td>0</td>\n",
       "      <td>0</td>\n",
       "      <td>0</td>\n",
       "      <td>0</td>\n",
       "      <td>0</td>\n",
       "    </tr>\n",
       "    <tr>\n",
       "      <th>2</th>\n",
       "      <td>0</td>\n",
       "      <td>0</td>\n",
       "      <td>0</td>\n",
       "      <td>0</td>\n",
       "      <td>0</td>\n",
       "      <td>0</td>\n",
       "      <td>0</td>\n",
       "      <td>0</td>\n",
       "      <td>0</td>\n",
       "      <td>0</td>\n",
       "      <td>...</td>\n",
       "      <td>0</td>\n",
       "      <td>0</td>\n",
       "      <td>0</td>\n",
       "      <td>0</td>\n",
       "      <td>0</td>\n",
       "      <td>0</td>\n",
       "      <td>0</td>\n",
       "      <td>0</td>\n",
       "      <td>0</td>\n",
       "      <td>0</td>\n",
       "    </tr>\n",
       "    <tr>\n",
       "      <th>3</th>\n",
       "      <td>0</td>\n",
       "      <td>0</td>\n",
       "      <td>0</td>\n",
       "      <td>0</td>\n",
       "      <td>0</td>\n",
       "      <td>0</td>\n",
       "      <td>0</td>\n",
       "      <td>0</td>\n",
       "      <td>0</td>\n",
       "      <td>0</td>\n",
       "      <td>...</td>\n",
       "      <td>0</td>\n",
       "      <td>0</td>\n",
       "      <td>0</td>\n",
       "      <td>0</td>\n",
       "      <td>0</td>\n",
       "      <td>0</td>\n",
       "      <td>0</td>\n",
       "      <td>0</td>\n",
       "      <td>0</td>\n",
       "      <td>0</td>\n",
       "    </tr>\n",
       "    <tr>\n",
       "      <th>4</th>\n",
       "      <td>0</td>\n",
       "      <td>0</td>\n",
       "      <td>0</td>\n",
       "      <td>0</td>\n",
       "      <td>0</td>\n",
       "      <td>0</td>\n",
       "      <td>0</td>\n",
       "      <td>0</td>\n",
       "      <td>0</td>\n",
       "      <td>0</td>\n",
       "      <td>...</td>\n",
       "      <td>0</td>\n",
       "      <td>0</td>\n",
       "      <td>0</td>\n",
       "      <td>0</td>\n",
       "      <td>0</td>\n",
       "      <td>0</td>\n",
       "      <td>0</td>\n",
       "      <td>0</td>\n",
       "      <td>0</td>\n",
       "      <td>0</td>\n",
       "    </tr>\n",
       "  </tbody>\n",
       "</table>\n",
       "<p>5 rows × 8444 columns</p>\n",
       "</div>"
      ],
      "text/plain": [
       "   00  000  000pes  008704050406  0089  0121  01223585236  01223585334  \\\n",
       "0   0    0       0             0     0     0            0            0   \n",
       "1   0    0       0             0     0     0            0            0   \n",
       "2   0    0       0             0     0     0            0            0   \n",
       "3   0    0       0             0     0     0            0            0   \n",
       "4   0    0       0             0     0     0            0            0   \n",
       "\n",
       "   0125698789  02  ...  zhong  zindgi  zoe  zogtorius  zoom  zouk  zyada  èn  \\\n",
       "0           0   0  ...      0       0    0          0     0     0      0   0   \n",
       "1           0   0  ...      0       0    0          0     0     0      0   0   \n",
       "2           0   0  ...      0       0    0          0     0     0      0   0   \n",
       "3           0   0  ...      0       0    0          0     0     0      0   0   \n",
       "4           0   0  ...      0       0    0          0     0     0      0   0   \n",
       "\n",
       "   ú1  〨ud  \n",
       "0   0    0  \n",
       "1   0    0  \n",
       "2   0    0  \n",
       "3   0    0  \n",
       "4   0    0  \n",
       "\n",
       "[5 rows x 8444 columns]"
      ]
     },
     "execution_count": 70,
     "metadata": {},
     "output_type": "execute_result"
    }
   ],
   "source": [
    "df_spam.head()"
   ]
  },
  {
   "cell_type": "code",
   "execution_count": 71,
   "metadata": {},
   "outputs": [
    {
     "data": {
      "text/plain": [
       "((4457, 8444), (1115, 8444))"
      ]
     },
     "execution_count": 71,
     "metadata": {},
     "output_type": "execute_result"
    }
   ],
   "source": [
    "X_train, X_test, y_train, y_test = train_test_split(spam_vector.toarray(), data['label'],\n",
    "                                                   test_size=0.2, random_state=111)\n",
    "X_train.shape, X_test.shape"
   ]
  },
  {
   "cell_type": "code",
   "execution_count": 72,
   "metadata": {},
   "outputs": [],
   "source": [
    "RFC = RandomForestClassifier(criterion='entropy', n_estimators=10)#, n_jobs=3)"
   ]
  },
  {
   "cell_type": "code",
   "execution_count": 73,
   "metadata": {},
   "outputs": [
    {
     "data": {
      "text/plain": [
       "RandomForestClassifier(bootstrap=True, class_weight=None, criterion='entropy',\n",
       "                       max_depth=None, max_features='auto', max_leaf_nodes=None,\n",
       "                       min_impurity_decrease=0.0, min_impurity_split=None,\n",
       "                       min_samples_leaf=1, min_samples_split=2,\n",
       "                       min_weight_fraction_leaf=0.0, n_estimators=10,\n",
       "                       n_jobs=None, oob_score=False, random_state=None,\n",
       "                       verbose=0, warm_start=False)"
      ]
     },
     "execution_count": 73,
     "metadata": {},
     "output_type": "execute_result"
    }
   ],
   "source": [
    "RFC.fit(X_train, y_train)"
   ]
  },
  {
   "cell_type": "code",
   "execution_count": 74,
   "metadata": {},
   "outputs": [
    {
     "name": "stdout",
     "output_type": "stream",
     "text": [
      "Train Acc 0.997083239847431\n",
      "Test Acc 0.9713004484304932\n"
     ]
    }
   ],
   "source": []
  },
  {
   "cell_type": "code",
   "execution_count": 80,
   "metadata": {},
   "outputs": [
    {
     "name": "stdout",
     "output_type": "stream",
     "text": [
      "Train Acc 1.0\n",
      "Train Recall 1.0\n",
      "Train Precision 1.0\n",
      "Train F1 1.0\n",
      "\n",
      "Test Acc 0.968609865470852\n",
      "Test Recall 0.847682119205298\n",
      "Test Precision 0.9142857142857143\n",
      "Test F1 0.8797250859106529\n"
     ]
    }
   ],
   "source": [
    "DTC = DecisionTreeClassifier(criterion='entropy', random_state=1111)\n",
    "DTC.fit(X_train, y_train)\n",
    "train_pred = DTC.predict(X_train)\n",
    "test_pred = DTC.predict(X_test)\n",
    "print (\"Train Acc\", metrics.accuracy_score(y_train, train_pred))\n",
    "print (\"Train Recall\", metrics.recall_score(y_train, train_pred))\n",
    "print (\"Train Precision\", metrics.precision_score(y_train, train_pred))\n",
    "print (\"Train F1\", metrics.f1_score(y_train, train_pred))\n",
    "print ()\n",
    "print (\"Test Acc\", metrics.accuracy_score(y_test, test_pred))\n",
    "print (\"Test Recall\", metrics.recall_score(y_test, test_pred))\n",
    "print (\"Test Precision\", metrics.precision_score(y_test, test_pred))\n",
    "print (\"Test F1\", metrics.f1_score(y_test, test_pred))"
   ]
  },
  {
   "cell_type": "code",
   "execution_count": 78,
   "metadata": {},
   "outputs": [
    {
     "name": "stdout",
     "output_type": "stream",
     "text": [
      "Train Acc 0.997083239847431\n",
      "Train Recall 0.9781879194630873\n",
      "Train Precision 1.0\n",
      "Train F1 0.9889737065309585\n",
      "\n",
      "Test Acc 0.9713004484304932\n",
      "Test Recall 0.8013245033112583\n",
      "Test Precision 0.983739837398374\n",
      "Test F1 0.8832116788321168\n"
     ]
    }
   ],
   "source": [
    "train_pred = RFC.predict(X_train)\n",
    "test_pred = RFC.predict(X_test)\n",
    "print (\"Train Acc\", metrics.accuracy_score(y_train, train_pred))\n",
    "print (\"Train Recall\", metrics.recall_score(y_train, train_pred))\n",
    "print (\"Train Precision\", metrics.precision_score(y_train, train_pred))\n",
    "print (\"Train F1\", metrics.f1_score(y_train, train_pred))\n",
    "print ()\n",
    "print (\"Test Acc\", metrics.accuracy_score(y_test, test_pred))\n",
    "print (\"Test Recall\", metrics.recall_score(y_test, test_pred))\n",
    "print (\"Test Precision\", metrics.precision_score(y_test, test_pred))\n",
    "print (\"Test F1\", metrics.f1_score(y_test, test_pred))"
   ]
  },
  {
   "cell_type": "code",
   "execution_count": 85,
   "metadata": {},
   "outputs": [
    {
     "name": "stderr",
     "output_type": "stream",
     "text": [
      "[Parallel(n_jobs=3)]: Using backend LokyBackend with 3 concurrent workers.\n",
      "[Parallel(n_jobs=3)]: Done   3 out of   3 | elapsed:   35.8s finished\n",
      "[Parallel(n_jobs=3)]: Using backend LokyBackend with 3 concurrent workers.\n",
      "[Parallel(n_jobs=3)]: Done   3 out of   3 | elapsed:   14.7s finished\n",
      "[Parallel(n_jobs=3)]: Using backend LokyBackend with 3 concurrent workers.\n"
     ]
    },
    {
     "name": "stdout",
     "output_type": "stream",
     "text": [
      "Train Acc 0.9977563383441777\n",
      "Train Recall 0.9848993288590604\n",
      "Train Precision 0.9982993197278912\n",
      "Train F1 0.9915540540540542\n",
      "\n",
      "Test Acc 0.9668161434977578\n",
      "Test Recall 0.8410596026490066\n",
      "Test Precision 0.9071428571428571\n",
      "Test F1 0.872852233676976\n"
     ]
    },
    {
     "name": "stderr",
     "output_type": "stream",
     "text": [
      "[Parallel(n_jobs=3)]: Done   3 out of   3 | elapsed:    3.3s finished\n"
     ]
    }
   ],
   "source": [
    "BC = BaggingClassifier(n_estimators=10, random_state=1111, verbose=True, n_jobs=3)\n",
    "BC.fit(X_train, y_train)\n",
    "train_pred = BC.predict(X_train)\n",
    "test_pred = BC.predict(X_test)\n",
    "print (\"Train Acc\", metrics.accuracy_score(y_train, train_pred))\n",
    "print (\"Train Recall\", metrics.recall_score(y_train, train_pred))\n",
    "print (\"Train Precision\", metrics.precision_score(y_train, train_pred))\n",
    "print (\"Train F1\", metrics.f1_score(y_train, train_pred))\n",
    "print ()\n",
    "print (\"Test Acc\", metrics.accuracy_score(y_test, test_pred))\n",
    "print (\"Test Recall\", metrics.recall_score(y_test, test_pred))\n",
    "print (\"Test Precision\", metrics.precision_score(y_test, test_pred))\n",
    "print (\"Test F1\", metrics.f1_score(y_test, test_pred))"
   ]
  },
  {
   "cell_type": "code",
   "execution_count": 93,
   "metadata": {},
   "outputs": [
    {
     "name": "stdout",
     "output_type": "stream",
     "text": [
      "Learning Rate 0.1\n",
      "15.283s fitting time\n",
      "Train Acc 0.901503253309401\n",
      "Train Recall 0.26677852348993286\n",
      "Train Precision 0.9875776397515528\n",
      "Train F1 0.4200792602377807\n",
      "\n",
      "Test Acc 0.8977578475336323\n",
      "Test Recall 0.24503311258278146\n",
      "Test Precision 1.0\n",
      "Test F1 0.39361702127659576\n",
      "16.932s\n",
      "\n",
      "\n",
      "\n",
      "Learning Rate 0.5\n",
      "15.364s fitting time\n",
      "Train Acc 0.9275297285169396\n",
      "Train Recall 0.46308724832214765\n",
      "Train Precision 0.989247311827957\n",
      "Train F1 0.6308571428571429\n",
      "\n",
      "Test Acc 0.9210762331838565\n",
      "Test Recall 0.41721854304635764\n",
      "Test Precision 1.0\n",
      "Test F1 0.5887850467289719\n",
      "17.562s\n",
      "\n",
      "\n",
      "\n",
      "Learning Rate 1\n",
      "16.733s fitting time\n",
      "Train Acc 0.9481714157505048\n",
      "Train Recall 0.6644295302013423\n",
      "Train Precision 0.927400468384075\n",
      "Train F1 0.7741935483870969\n",
      "\n",
      "Test Acc 0.9417040358744395\n",
      "Test Recall 0.6158940397350994\n",
      "Test Precision 0.93\n",
      "Test F1 0.7410358565737053\n",
      "18.485s\n",
      "\n",
      "\n",
      "\n",
      "Learning Rate 10\n",
      "6.668s fitting time\n",
      "Train Acc 0.1337222346870092\n",
      "Train Recall 1.0\n",
      "Train Precision 0.1337222346870092\n",
      "Train F1 0.23589946566396197\n",
      "\n",
      "Test Acc 0.13542600896860987\n",
      "Test Recall 1.0\n",
      "Test Precision 0.13542600896860987\n",
      "Test F1 0.23854660347551343\n",
      "8.449s\n",
      "\n",
      "\n",
      "\n"
     ]
    }
   ],
   "source": [
    "for LR in [0.1, 0.5, 1, 10]:\n",
    "    start = time()\n",
    "    print ('Learning Rate', LR)\n",
    "    ABC = AdaBoostClassifier(n_estimators=10, learning_rate=LR, random_state=1111)\n",
    "    ABC.fit(X_train, y_train)\n",
    "    print (f\"{time()-start:.3f}s fitting time\")\n",
    "    train_pred = ABC.predict(X_train)\n",
    "    test_pred = ABC.predict(X_test)\n",
    "    print (\"Train Acc\", metrics.accuracy_score(y_train, train_pred))\n",
    "    print (\"Train Recall\", metrics.recall_score(y_train, train_pred))\n",
    "    print (\"Train Precision\", metrics.precision_score(y_train, train_pred))\n",
    "    print (\"Train F1\", metrics.f1_score(y_train, train_pred))\n",
    "    print ()\n",
    "    print (\"Test Acc\", metrics.accuracy_score(y_test, test_pred))\n",
    "    print (\"Test Recall\", metrics.recall_score(y_test, test_pred))\n",
    "    print (\"Test Precision\", metrics.precision_score(y_test, test_pred))\n",
    "    print (\"Test F1\", metrics.f1_score(y_test, test_pred))\n",
    "    print (f\"{time()-start:.3f}s\")\n",
    "    print ('\\n\\n')"
   ]
  },
  {
   "cell_type": "code",
   "execution_count": 94,
   "metadata": {},
   "outputs": [
    {
     "name": "stdout",
     "output_type": "stream",
     "text": [
      "Learning Rate 0.5\n",
      "78.317s fitting time\n",
      "Train Acc 0.9694862014808167\n",
      "Train Recall 0.790268456375839\n",
      "Train Precision 0.9771784232365145\n",
      "Train F1 0.8738404452690167\n",
      "\n",
      "Test Acc 0.9623318385650225\n",
      "Test Recall 0.7350993377483444\n",
      "Test Precision 0.9823008849557522\n",
      "Test F1 0.8409090909090909\n",
      "87.516s\n",
      "\n",
      "\n",
      "\n"
     ]
    }
   ],
   "source": [
    "for LR in [0.5]:\n",
    "    start = time()\n",
    "    print ('Learning Rate', LR)\n",
    "    ABC = AdaBoostClassifier(n_estimators=50, learning_rate=LR, random_state=1111)\n",
    "    ABC.fit(X_train, y_train)\n",
    "    print (f\"{time()-start:.3f}s fitting time\")\n",
    "    train_pred = ABC.predict(X_train)\n",
    "    test_pred = ABC.predict(X_test)\n",
    "    print (\"Train Acc\", metrics.accuracy_score(y_train, train_pred))\n",
    "    print (\"Train Recall\", metrics.recall_score(y_train, train_pred))\n",
    "    print (\"Train Precision\", metrics.precision_score(y_train, train_pred))\n",
    "    print (\"Train F1\", metrics.f1_score(y_train, train_pred))\n",
    "    print ()\n",
    "    print (\"Test Acc\", metrics.accuracy_score(y_test, test_pred))\n",
    "    print (\"Test Recall\", metrics.recall_score(y_test, test_pred))\n",
    "    print (\"Test Precision\", metrics.precision_score(y_test, test_pred))\n",
    "    print (\"Test F1\", metrics.f1_score(y_test, test_pred))\n",
    "    print (f\"{time()-start:.3f}s\")\n",
    "    print ('\\n\\n')"
   ]
  },
  {
   "cell_type": "code",
   "execution_count": null,
   "metadata": {},
   "outputs": [],
   "source": []
  }
 ],
 "metadata": {
  "kernelspec": {
   "display_name": "Python 3",
   "language": "python",
   "name": "python3"
  },
  "language_info": {
   "codemirror_mode": {
    "name": "ipython",
    "version": 3
   },
   "file_extension": ".py",
   "mimetype": "text/x-python",
   "name": "python",
   "nbconvert_exporter": "python",
   "pygments_lexer": "ipython3",
   "version": "3.7.5"
  }
 },
 "nbformat": 4,
 "nbformat_minor": 4
}
