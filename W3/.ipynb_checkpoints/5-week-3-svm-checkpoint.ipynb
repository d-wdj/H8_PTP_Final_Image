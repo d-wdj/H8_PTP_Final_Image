{
 "cells": [
  {
   "cell_type": "markdown",
   "metadata": {},
   "source": [
    "# Support Vector Machine\n",
    "\n",
    "Let's draw two plot of the same data and try answer this question.\n",
    "\n",
    "- Which one is the line that separates the points better?\n",
    "\n",
    "As a preview, this is how Support Vector Machine (SVM) works. It gives a line that separates the points with the greatest distance.\n",
    "\n",
    "SVM extend the criteria of classificaton a bit further, from giving a line that separates the points, to create one which is far away from the points as possible. We do this by creating two more lines which is equidistant parallel lines to the main line, and we try to **maximise** the distance between these two or the **margin** between them.\n",
    "\n",
    "![](../python-for-data-science/assets/img/svm-boundary.png)\n",
    "\n",
    "Now, the error function now become a bit more complex, that is\n",
    "$$\n",
    "error = \\text{classification error} + \\text{margin error}\n",
    "$$"
   ]
  },
  {
   "cell_type": "markdown",
   "metadata": {},
   "source": [
    "## SVM in Scikit-Learn"
   ]
  },
  {
   "cell_type": "code",
   "execution_count": null,
   "metadata": {},
   "outputs": [],
   "source": []
  }
 ],
 "metadata": {
  "kernelspec": {
   "display_name": "Python 3",
   "language": "python",
   "name": "python3"
  },
  "language_info": {
   "codemirror_mode": {
    "name": "ipython",
    "version": 3
   },
   "file_extension": ".py",
   "mimetype": "text/x-python",
   "name": "python",
   "nbconvert_exporter": "python",
   "pygments_lexer": "ipython3",
   "version": "3.7.5"
  }
 },
 "nbformat": 4,
 "nbformat_minor": 4
}
