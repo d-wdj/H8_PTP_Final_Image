{
 "cells": [
  {
   "cell_type": "code",
   "execution_count": 8,
   "metadata": {},
   "outputs": [],
   "source": [
    "from sklearn.ensemble import RandomForestClassifier, AdaBoostClassifier, BaggingClassifier\n",
    "from sklearn.tree import DecisionTreeClassifier\n",
    "import pandas as pd\n",
    "import numpy as np\n",
    "import matplotlib.pyplot as plt\n",
    "from sklearn.model_selection import train_test_split, KFold\n",
    "from sklearn import metrics\n",
    "from sklearn.feature_extraction.text import CountVectorizer\n",
    "from time import time"
   ]
  },
  {
   "cell_type": "code",
   "execution_count": 9,
   "metadata": {},
   "outputs": [
    {
     "data": {
      "text/html": [
       "<div>\n",
       "<style scoped>\n",
       "    .dataframe tbody tr th:only-of-type {\n",
       "        vertical-align: middle;\n",
       "    }\n",
       "\n",
       "    .dataframe tbody tr th {\n",
       "        vertical-align: top;\n",
       "    }\n",
       "\n",
       "    .dataframe thead th {\n",
       "        text-align: right;\n",
       "    }\n",
       "</style>\n",
       "<table border=\"1\" class=\"dataframe\">\n",
       "  <thead>\n",
       "    <tr style=\"text-align: right;\">\n",
       "      <th></th>\n",
       "      <th>label</th>\n",
       "      <th>message</th>\n",
       "    </tr>\n",
       "  </thead>\n",
       "  <tbody>\n",
       "    <tr>\n",
       "      <th>0</th>\n",
       "      <td>ham</td>\n",
       "      <td>Go until jurong point, crazy.. Available only ...</td>\n",
       "    </tr>\n",
       "    <tr>\n",
       "      <th>1</th>\n",
       "      <td>ham</td>\n",
       "      <td>Ok lar... Joking wif u oni...</td>\n",
       "    </tr>\n",
       "    <tr>\n",
       "      <th>2</th>\n",
       "      <td>spam</td>\n",
       "      <td>Free entry in 2 a wkly comp to win FA Cup fina...</td>\n",
       "    </tr>\n",
       "    <tr>\n",
       "      <th>3</th>\n",
       "      <td>ham</td>\n",
       "      <td>U dun say so early hor... U c already then say...</td>\n",
       "    </tr>\n",
       "    <tr>\n",
       "      <th>4</th>\n",
       "      <td>ham</td>\n",
       "      <td>Nah I don't think he goes to usf, he lives aro...</td>\n",
       "    </tr>\n",
       "  </tbody>\n",
       "</table>\n",
       "</div>"
      ],
      "text/plain": [
       "  label                                            message\n",
       "0   ham  Go until jurong point, crazy.. Available only ...\n",
       "1   ham                      Ok lar... Joking wif u oni...\n",
       "2  spam  Free entry in 2 a wkly comp to win FA Cup fina...\n",
       "3   ham  U dun say so early hor... U c already then say...\n",
       "4   ham  Nah I don't think he goes to usf, he lives aro..."
      ]
     },
     "metadata": {},
     "output_type": "display_data"
    }
   ],
   "source": [
    "data = pd.read_csv(\"SMSSpamCollection.tsv\", names=['label', 'message'], sep='\\t')\n",
    "display (data.head())\n",
    "data['label'] = data.label.map({'ham': 0, 'spam': 1})"
   ]
  },
  {
   "cell_type": "code",
   "execution_count": 12,
   "metadata": {},
   "outputs": [],
   "source": [
    "RFC = RandomForestClassifier(criterion='entropy', n_estimators=10, random_state=111)\n",
    "ABC = AdaBoostClassifier(n_estimators=10, random_state=1111)\n",
    "DT = DecisionTreeClassifier(random_state=1111)\n",
    "BC = BaggingClassifier(n_estimators=10, random_state=1111)"
   ]
  },
  {
   "cell_type": "code",
   "execution_count": 15,
   "metadata": {},
   "outputs": [
    {
     "data": {
      "text/plain": [
       "((4457, 8444), (1115, 8444))"
      ]
     },
     "execution_count": 15,
     "metadata": {},
     "output_type": "execute_result"
    }
   ],
   "source": [
    "vectorizer = CountVectorizer(stop_words='english')\n",
    "spam_vector = vectorizer.fit_transform(data[\"message\"])\n",
    "spam_features = vectorizer.get_feature_names()\n",
    "X_train, X_test, y_train, y_test = train_test_split(spam_vector.toarray(), data['label'],\n",
    "                                                   test_size=0.2)#, random_state=111)\n",
    "X_train.shape, X_test.shape"
   ]
  },
  {
   "cell_type": "code",
   "execution_count": 17,
   "metadata": {},
   "outputs": [],
   "source": [
    "kfold = KFold(n_splits=4, random_state=111)"
   ]
  },
  {
   "cell_type": "code",
   "execution_count": 26,
   "metadata": {},
   "outputs": [
    {
     "name": "stdout",
     "output_type": "stream",
     "text": [
      "K-fold 0\n",
      "Time: 6.730s\n",
      "K-fold 1\n",
      "Time: 6.154s\n",
      "K-fold 2\n",
      "Time: 6.366s\n",
      "K-fold 3\n",
      "Time: 6.509s\n",
      "RFC Scores: [0.9712849964106246, 0.9676956209619526, 0.9669777458722182, 0.968413496051687]\n"
     ]
    }
   ],
   "source": [
    "RFC_score = []\n",
    "for z, (trainIdx, testIdx) in enumerate(kfold.split(data['message'])):\n",
    "    print (f'K-fold {z}')\n",
    "    start = time()\n",
    "    X_train = spam_vector.toarray()[trainIdx]\n",
    "    X_test = spam_vector.toarray()[testIdx]\n",
    "    y_train = data['label'].values[trainIdx]\n",
    "    y_test = data['label'].values[testIdx]\n",
    "    RFC.fit(X_train, y_train)\n",
    "    RFC_score.append(RFC.score(X_test, y_test))\n",
    "    print (f\"Time: {time()-start:.3f}s\")\n",
    "\n",
    "print (\"RFC Scores:\", RFC_score)"
   ]
  },
  {
   "cell_type": "code",
   "execution_count": 28,
   "metadata": {},
   "outputs": [
    {
     "name": "stdout",
     "output_type": "stream",
     "text": [
      "K-fold 0\n",
      "Time: 15.093s\n",
      "K-fold 1\n",
      "Time: 15.010s\n",
      "K-fold 2\n",
      "Time: 14.851s\n",
      "K-fold 3\n",
      "Time: 14.957s\n",
      "ABC Scores: [0.9361091170136396, 0.9447236180904522, 0.9353912419239052, 0.9418521177315147]\n"
     ]
    }
   ],
   "source": [
    "ABC_score = []\n",
    "for z, (trainIdx, testIdx) in enumerate(kfold.split(data['message'])):\n",
    "    print (f'K-fold {z}')\n",
    "    start = time()\n",
    "    X_train = spam_vector.toarray()[trainIdx]\n",
    "    X_test = spam_vector.toarray()[testIdx]\n",
    "    y_train = data['label'].values[trainIdx]\n",
    "    y_test = data['label'].values[testIdx]\n",
    "    ABC.fit(X_train, y_train)\n",
    "    ABC_score.append(ABC.score(X_test, y_test))\n",
    "    print (f\"Time: {time()-start:.3f}s\")\n",
    "    \n",
    "print (\"ABC Scores:\", ABC_score)"
   ]
  },
  {
   "cell_type": "code",
   "execution_count": 29,
   "metadata": {},
   "outputs": [
    {
     "name": "stdout",
     "output_type": "stream",
     "text": [
      "K-fold 0\n",
      "Time: 35.497s\n",
      "K-fold 1\n",
      "Time: 37.131s\n",
      "K-fold 2\n",
      "Time: 33.696s\n",
      "K-fold 3\n",
      "Time: 37.207s\n",
      "BC Scores: [0.9720028715003589, 0.9741564967695621, 0.9676956209619526, 0.968413496051687]\n"
     ]
    }
   ],
   "source": [
    "BC_score = []\n",
    "for z, (trainIdx, testIdx) in enumerate(kfold.split(data['message'])):\n",
    "    print (f'K-fold {z}')\n",
    "    start = time()\n",
    "    X_train = spam_vector.toarray()[trainIdx]\n",
    "    X_test = spam_vector.toarray()[testIdx]\n",
    "    y_train = data['label'].values[trainIdx]\n",
    "    y_test = data['label'].values[testIdx]\n",
    "    BC.fit(X_train, y_train)\n",
    "    BC_score.append(BC.score(X_test, y_test))\n",
    "    print (f\"Time: {time()-start:.3f}s\")\n",
    "    \n",
    "print (\"BC Scores:\", BC_score)"
   ]
  },
  {
   "cell_type": "code",
   "execution_count": null,
   "metadata": {},
   "outputs": [],
   "source": []
  }
 ],
 "metadata": {
  "kernelspec": {
   "display_name": "Python 3",
   "language": "python",
   "name": "python3"
  },
  "language_info": {
   "codemirror_mode": {
    "name": "ipython",
    "version": 3
   },
   "file_extension": ".py",
   "mimetype": "text/x-python",
   "name": "python",
   "nbconvert_exporter": "python",
   "pygments_lexer": "ipython3",
   "version": "3.7.5"
  }
 },
 "nbformat": 4,
 "nbformat_minor": 2
}
