{
 "cells": [
  {
   "cell_type": "code",
   "execution_count": 1,
   "metadata": {},
   "outputs": [],
   "source": [
    "import pandas as pd"
   ]
  },
  {
   "cell_type": "code",
   "execution_count": 38,
   "metadata": {},
   "outputs": [
    {
     "name": "stdout",
     "output_type": "stream",
     "text": [
      "Nice! Perceptron bekerja sesuai harapan.\n",
      "\n",
      " Input X1  Input X2  Linear Combination  Activation Output Is Correct\n",
      "        1         1                   2                  1      Benar\n",
      "        0         1                   1                  1      Benar\n",
      "        1         0                   1                  1      Benar\n",
      "        0         0                   0                  0      Benar\n"
     ]
    }
   ],
   "source": [
    "# TODO: ganti nilai weight1, weight2, dan bias\n",
    "weight1 = 1\n",
    "weight2 = 1\n",
    "bias = 0\n",
    "\n",
    "# SCRIPT DIBAWAH HARAP JANGAN DIUBAH\n",
    "# Input Output\n",
    "test_inputs = [(1, 1), (0, 1), (1, 0), (0, 0)]\n",
    "outputs = []\n",
    "\n",
    "## AND\n",
    "# targets = [True, False, False, False]\n",
    "\n",
    "## OR\n",
    "targets = [1, 1, 1, 0]\n",
    "\n",
    "# Generate hasil\n",
    "for inputs, target in zip(test_inputs, targets):\n",
    "    linear_combination = weight1*inputs[0] + weight2*inputs[1] + bias\n",
    "    output = int(linear_combination > 0)\n",
    "    is_correct = 'Benar' if output == target else 'Salah'\n",
    "    outputs.append(\n",
    "        [inputs[0], inputs[1], linear_combination, output, is_correct]\n",
    "    )\n",
    "\n",
    "# Tampilkan hasil\n",
    "num_wrong = len([output[4] for output in outputs if output[4] == \"Salah\"])\n",
    "output_df = pd.DataFrame(\n",
    "    outputs,\n",
    "    columns=[\n",
    "        'Input X1', 'Input X2', 'Linear Combination',\n",
    "        'Activation Output', 'Is Correct'\n",
    "    ]\n",
    ")\n",
    "if not num_wrong:\n",
    "    print(\"Nice! Perceptron bekerja sesuai harapan.\\n\")\n",
    "else:\n",
    "    print(f\"Ada {num_wrong} kesalahan. Terus mencoba.\\n\")\n",
    "print(output_df.to_string(index=False))"
   ]
  },
  {
   "cell_type": "code",
   "execution_count": null,
   "metadata": {},
   "outputs": [],
   "source": []
  }
 ],
 "metadata": {
  "kernelspec": {
   "display_name": "Python 3",
   "language": "python",
   "name": "python3"
  },
  "language_info": {
   "codemirror_mode": {
    "name": "ipython",
    "version": 3
   },
   "file_extension": ".py",
   "mimetype": "text/x-python",
   "name": "python",
   "nbconvert_exporter": "python",
   "pygments_lexer": "ipython3",
   "version": "3.7.3"
  }
 },
 "nbformat": 4,
 "nbformat_minor": 2
}
