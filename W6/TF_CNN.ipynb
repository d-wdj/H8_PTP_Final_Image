{
 "cells": [
  {
   "cell_type": "code",
   "execution_count": 3,
   "metadata": {},
   "outputs": [],
   "source": [
    "import tensorflow as tf\n",
    "import tensorflow_datasets as tfds\n",
    "import matplotlib.pyplot as plt\n",
    "import numpy as np\n",
    "import math"
   ]
  },
  {
   "cell_type": "code",
   "execution_count": 4,
   "metadata": {},
   "outputs": [],
   "source": [
    "dataset, metadata = tfds.load('fashion_mnist', as_supervised=1, with_info=1)"
   ]
  },
  {
   "cell_type": "code",
   "execution_count": 5,
   "metadata": {},
   "outputs": [
    {
     "data": {
      "text/plain": [
       "tfds.core.DatasetInfo(\n",
       "    name='fashion_mnist',\n",
       "    version=3.0.0,\n",
       "    description='Fashion-MNIST is a dataset of Zalando's article images consisting of a training set of 60,000 examples and a test set of 10,000 examples. Each example is a 28x28 grayscale image, associated with a label from 10 classes.',\n",
       "    homepage='https://github.com/zalandoresearch/fashion-mnist',\n",
       "    features=FeaturesDict({\n",
       "        'image': Image(shape=(28, 28, 1), dtype=tf.uint8),\n",
       "        'label': ClassLabel(shape=(), dtype=tf.int64, num_classes=10),\n",
       "    }),\n",
       "    total_num_examples=70000,\n",
       "    splits={\n",
       "        'test': 10000,\n",
       "        'train': 60000,\n",
       "    },\n",
       "    supervised_keys=('image', 'label'),\n",
       "    citation=\"\"\"@article{DBLP:journals/corr/abs-1708-07747,\n",
       "      author    = {Han Xiao and\n",
       "                   Kashif Rasul and\n",
       "                   Roland Vollgraf},\n",
       "      title     = {Fashion-MNIST: a Novel Image Dataset for Benchmarking Machine Learning\n",
       "                   Algorithms},\n",
       "      journal   = {CoRR},\n",
       "      volume    = {abs/1708.07747},\n",
       "      year      = {2017},\n",
       "      url       = {http://arxiv.org/abs/1708.07747},\n",
       "      archivePrefix = {arXiv},\n",
       "      eprint    = {1708.07747},\n",
       "      timestamp = {Mon, 13 Aug 2018 16:47:27 +0200},\n",
       "      biburl    = {https://dblp.org/rec/bib/journals/corr/abs-1708-07747},\n",
       "      bibsource = {dblp computer science bibliography, https://dblp.org}\n",
       "    }\"\"\",\n",
       "    redistribution_info=,\n",
       ")"
      ]
     },
     "execution_count": 5,
     "metadata": {},
     "output_type": "execute_result"
    }
   ],
   "source": [
    "metadata"
   ]
  },
  {
   "cell_type": "code",
   "execution_count": 9,
   "metadata": {},
   "outputs": [
    {
     "data": {
      "text/plain": [
       "(60000, 10000)"
      ]
     },
     "execution_count": 9,
     "metadata": {},
     "output_type": "execute_result"
    }
   ],
   "source": [
    "train_dataset, test_dataset = dataset['train'], dataset['test']\n",
    "num_train_ex = metadata.splits['train'].num_examples\n",
    "num_test_ex = metadata.splits['test'].num_examples\n",
    "num_train_ex, num_test_ex"
   ]
  },
  {
   "cell_type": "code",
   "execution_count": 10,
   "metadata": {},
   "outputs": [],
   "source": [
    "class_names = {\n",
    "0:'Top',\n",
    "1:'Trouser',\n",
    "2:'Pullover',\n",
    "3:'Dress',\n",
    "4:'Coat',\n",
    "5:'Sandal',\n",
    "6:'Shirt',\n",
    "7:'Sneaker',\n",
    "8:'Bag',\n",
    "9:'AnkleBoot'}\n",
    "class_label = [class_names[x] for x in range(0, 10)]"
   ]
  },
  {
   "cell_type": "code",
   "execution_count": 14,
   "metadata": {},
   "outputs": [],
   "source": [
    "def normalize(image, label):\n",
    "    image = tf.cast(image, tf.float32)\n",
    "    image /= 255.\n",
    "    return image, label\n",
    "\n",
    "train_dataset = train_dataset.map(normalize)\n",
    "test_dataset = test_dataset.map(normalize)"
   ]
  },
  {
   "cell_type": "code",
   "execution_count": 20,
   "metadata": {},
   "outputs": [
    {
     "data": {
      "image/png": "[encoded data removed]",
      "text/plain": [
       "<Figure size 432x288 with 2 Axes>"
      ]
     },
     "metadata": {
      "needs_background": "light"
     },
     "output_type": "display_data"
    }
   ],
   "source": [
    "for image, label in test_dataset.take(1):\n",
    "    break\n",
    "    \n",
    "image = image.numpy().reshape((28, 28))\n",
    "plt.figure()\n",
    "plt.imshow(image, cmap=plt.cm.binary)\n",
    "plt.grid(0)\n",
    "plt.colorbar()\n",
    "plt.xticks([])\n",
    "plt.yticks([])\n",
    "plt.title(class_names[label.numpy()])\n",
    "plt.show()"
   ]
  },
  {
   "cell_type": "code",
   "execution_count": 21,
   "metadata": {},
   "outputs": [
    {
     "name": "stdout",
     "output_type": "stream",
     "text": [
      "Model: \"sequential\"\n",
      "_________________________________________________________________\n",
      "Layer (type)                 Output Shape              Param #   \n",
      "=================================================================\n",
      "conv2d (Conv2D)              (None, 28, 28, 32)        320       \n",
      "_________________________________________________________________\n",
      "max_pooling2d (MaxPooling2D) (None, 14, 14, 32)        0         \n",
      "_________________________________________________________________\n",
      "conv2d_1 (Conv2D)            (None, 14, 14, 64)        18496     \n",
      "_________________________________________________________________\n",
      "max_pooling2d_1 (MaxPooling2 (None, 7, 7, 64)          0         \n",
      "_________________________________________________________________\n",
      "flatten (Flatten)            (None, 3136)              0         \n",
      "_________________________________________________________________\n",
      "dense (Dense)                (None, 128)               401536    \n",
      "_________________________________________________________________\n",
      "dense_1 (Dense)              (None, 10)                1290      \n",
      "=================================================================\n",
      "Total params: 421,642\n",
      "Trainable params: 421,642\n",
      "Non-trainable params: 0\n",
      "_________________________________________________________________\n",
      "Model Summary\n",
      "None\n"
     ]
    }
   ],
   "source": [
    "def get_model(input_shape, optimizer, loss, metrics):\n",
    "    model = tf.keras.Sequential([\n",
    "        ## First Convolution\n",
    "        tf.keras.layers.Conv2D(filters=32, kernel_size=(3, 3), padding='same',\n",
    "                               activation='relu', input_shape=input_shape),\n",
    "        tf.keras.layers.MaxPool2D((2, 2), strides=2),\n",
    "        \n",
    "        \n",
    "        ## Second Convolution\n",
    "        tf.keras.layers.Conv2D(filters=64, kernel_size=(3, 3), padding='same',\n",
    "                               activation='relu'),\n",
    "        tf.keras.layers.MaxPool2D((2, 2), strides=2),\n",
    "        \n",
    "        ## Flatten\n",
    "        tf.keras.layers.Flatten(),\n",
    "        tf.keras.layers.Dense(128, activation='relu'),\n",
    "        tf.keras.layers.Dense(10, activation='softmax') #multiClass; binary:sigmoid\n",
    "                ])\n",
    "    model.compile(optimizer=optimizer,\n",
    "                  loss=loss,\n",
    "                  metrics=metrics)\n",
    "    print (f\"Model Summary\\n{model.summary()}\")\n",
    "    return model\n",
    "\n",
    "model = get_model(input_shape=(28, 28, 1),\n",
    "                  optimizer='adam',\n",
    "                  loss='sparse_categorical_crossentropy',\n",
    "                  metrics=['accuracy'])"
   ]
  },
  {
   "cell_type": "code",
   "execution_count": 22,
   "metadata": {},
   "outputs": [
    {
     "name": "stdout",
     "output_type": "stream",
     "text": [
      "Train for 1875 steps\n",
      "Epoch 1/10\n",
      "1875/1875 [==============================] - 81s 43ms/step - loss: 0.4033 - accuracy: 0.8562\n",
      "Epoch 2/10\n",
      "1875/1875 [==============================] - 76s 40ms/step - loss: 0.2559 - accuracy: 0.9058\n",
      "Epoch 3/10\n",
      "1875/1875 [==============================] - 76s 40ms/step - loss: 0.2162 - accuracy: 0.9200\n",
      "Epoch 4/10\n",
      "1875/1875 [==============================] - 76s 41ms/step - loss: 0.1855 - accuracy: 0.9308\n",
      "Epoch 5/10\n",
      "1875/1875 [==============================] - 74s 39ms/step - loss: 0.1580 - accuracy: 0.9409\n",
      "Epoch 6/10\n",
      "1875/1875 [==============================] - 75s 40ms/step - loss: 0.1331 - accuracy: 0.9507\n",
      "Epoch 7/10\n",
      "1875/1875 [==============================] - 86s 46ms/step - loss: 0.1133 - accuracy: 0.9574\n",
      "Epoch 8/10\n",
      "1875/1875 [==============================] - 76s 41ms/step - loss: 0.0926 - accuracy: 0.9653\n",
      "Epoch 9/10\n",
      "1875/1875 [==============================] - 76s 41ms/step - loss: 0.0815 - accuracy: 0.9701\n",
      "Epoch 10/10\n",
      "1875/1875 [==============================] - 82s 44ms/step - loss: 0.0701 - accuracy: 0.9741\n"
     ]
    }
   ],
   "source": [
    "def train_model(model, train_set, epochs, batch_size, buffer_size, steps_per_epoch):\n",
    "    train_set = train_set.repeat().shuffle(buffer_size).batch(batch_size)\n",
    "    history = model.fit(train_set, epochs=epochs, steps_per_epoch=steps_per_epoch)\n",
    "    return history\n",
    "\n",
    "history = train_model(model, \n",
    "                      train_dataset, \n",
    "                      epochs=10, \n",
    "                      batch_size=32, \n",
    "                      buffer_size=num_train_ex,\n",
    "                      steps_per_epoch=math.ceil(num_train_ex/32))\n"
   ]
  },
  {
   "cell_type": "code",
   "execution_count": 24,
   "metadata": {},
   "outputs": [
    {
     "name": "stdout",
     "output_type": "stream",
     "text": [
      "313/313 [==============================] - 5s 15ms/step - loss: 0.3173 - accuracy: 0.9145\n",
      "TestSet Accuracy: 0.914\n"
     ]
    }
   ],
   "source": [
    "test_dataset = test_dataset.batch(32)\n",
    "test_loss, test_accuracy = model.evaluate(test_dataset, steps=math.ceil(num_test_ex/32))\n",
    "print (f\"TestSet Accuracy: {test_accuracy:.3f}\")"
   ]
  },
  {
   "cell_type": "code",
   "execution_count": null,
   "metadata": {},
   "outputs": [],
   "source": []
  }
 ],
 "metadata": {
  "kernelspec": {
   "display_name": "Python 3",
   "language": "python",
   "name": "python3"
  },
  "language_info": {
   "codemirror_mode": {
    "name": "ipython",
    "version": 3
   },
   "file_extension": ".py",
   "mimetype": "text/x-python",
   "name": "python",
   "nbconvert_exporter": "python",
   "pygments_lexer": "ipython3",
   "version": "3.7.3"
  }
 },
 "nbformat": 4,
 "nbformat_minor": 4
}
