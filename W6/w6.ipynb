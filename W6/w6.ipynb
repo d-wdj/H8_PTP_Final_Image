{
 "cells": [
  {
   "cell_type": "code",
   "execution_count": 56,
   "metadata": {},
   "outputs": [],
   "source": [
    "import tensorflow as tf\n",
    "import tensorflow_datasets as tfds\n",
    "import matplotlib.pyplot as plt\n",
    "import numpy as np\n",
    "import math"
   ]
  },
  {
   "cell_type": "code",
   "execution_count": 2,
   "metadata": {},
   "outputs": [
    {
     "data": {
      "text/plain": [
       "'2.0.0'"
      ]
     },
     "execution_count": 2,
     "metadata": {},
     "output_type": "execute_result"
    }
   ],
   "source": [
    "tfds.__version__"
   ]
  },
  {
   "cell_type": "code",
   "execution_count": 3,
   "metadata": {},
   "outputs": [
    {
     "name": "stdout",
     "output_type": "stream",
     "text": [
      "abstract_reasoning\n",
      "aeslc\n",
      "aflw2k3d\n",
      "amazon_us_reviews\n",
      "arc\n",
      "bair_robot_pushing_small\n",
      "big_patent\n",
      "bigearthnet\n",
      "billsum\n",
      "binarized_mnist\n",
      "binary_alpha_digits\n",
      "c4\n",
      "caltech101\n",
      "caltech_birds2010\n",
      "caltech_birds2011\n",
      "cars196\n",
      "cassava\n",
      "cats_vs_dogs\n",
      "celeb_a\n",
      "celeb_a_hq\n",
      "chexpert\n",
      "cifar10\n",
      "cifar100\n",
      "cifar10_1\n",
      "cifar10_corrupted\n",
      "citrus_leaves\n",
      "cityscapes\n",
      "civil_comments\n",
      "clevr\n",
      "cmaterdb\n",
      "cnn_dailymail\n",
      "coco\n",
      "coil100\n",
      "colorectal_histology\n",
      "colorectal_histology_large\n",
      "cos_e\n",
      "curated_breast_imaging_ddsm\n",
      "cycle_gan\n",
      "deep_weeds\n",
      "definite_pronoun_resolution\n",
      "diabetic_retinopathy_detection\n",
      "dmlab\n",
      "downsampled_imagenet\n",
      "dsprites\n",
      "dtd\n",
      "duke_ultrasound\n",
      "dummy_dataset_shared_generator\n",
      "dummy_mnist\n",
      "emnist\n",
      "esnli\n",
      "eurosat\n",
      "fashion_mnist\n",
      "flic\n",
      "flores\n",
      "food101\n",
      "gap\n",
      "gigaword\n",
      "glue\n",
      "groove\n",
      "higgs\n",
      "horses_or_humans\n",
      "i_naturalist2017\n",
      "image_label_folder\n",
      "imagenet2012\n",
      "imagenet2012_corrupted\n",
      "imagenet_resized\n",
      "imagenette\n",
      "imdb_reviews\n",
      "iris\n",
      "kitti\n",
      "kmnist\n",
      "lfw\n",
      "lm1b\n",
      "lost_and_found\n",
      "lsun\n",
      "malaria\n",
      "math_dataset\n",
      "mnist\n",
      "mnist_corrupted\n",
      "movie_rationales\n",
      "moving_mnist\n",
      "multi_news\n",
      "multi_nli\n",
      "multi_nli_mismatch\n",
      "newsroom\n",
      "nsynth\n",
      "omniglot\n",
      "open_images_v4\n",
      "oxford_flowers102\n",
      "oxford_iiit_pet\n",
      "para_crawl\n",
      "patch_camelyon\n",
      "pet_finder\n",
      "places365_small\n",
      "plant_leaves\n",
      "plant_village\n",
      "plantae_k\n",
      "quickdraw_bitmap\n",
      "reddit_tifu\n",
      "resisc45\n",
      "rock_paper_scissors\n",
      "rock_you\n",
      "scan\n",
      "scene_parse150\n",
      "scicite\n",
      "scientific_papers\n",
      "shapes3d\n",
      "smallnorb\n",
      "snli\n",
      "so2sat\n",
      "squad\n",
      "stanford_dogs\n",
      "stanford_online_products\n",
      "starcraft_video\n",
      "sun397\n",
      "super_glue\n",
      "svhn_cropped\n",
      "ted_hrlr_translate\n",
      "ted_multi_translate\n",
      "tf_flowers\n",
      "the300w_lp\n",
      "titanic\n",
      "trivia_qa\n",
      "uc_merced\n",
      "ucf101\n",
      "vgg_face2\n",
      "visual_domain_decathlon\n",
      "voc\n",
      "wider_face\n",
      "wikihow\n",
      "wikipedia\n",
      "wmt14_translate\n",
      "wmt15_translate\n",
      "wmt16_translate\n",
      "wmt17_translate\n",
      "wmt18_translate\n",
      "wmt19_translate\n",
      "wmt_t2t_translate\n",
      "wmt_translate\n",
      "xnli\n",
      "xsum\n"
     ]
    }
   ],
   "source": [
    "print ('\\n'.join(tfds.list_builders()))"
   ]
  },
  {
   "cell_type": "markdown",
   "metadata": {},
   "source": [
    "# Create a model that converts ºC to ºF"
   ]
  },
  {
   "cell_type": "code",
   "execution_count": 4,
   "metadata": {},
   "outputs": [],
   "source": [
    "# Defines the conversion data for the model to learn from.\n",
    "celcius = [-40, -10, 0, 8, 15, 22, 38]\n",
    "fahrenheit = [-40, 14, 32, 46, 59, 72, 100]"
   ]
  },
  {
   "cell_type": "code",
   "execution_count": 5,
   "metadata": {},
   "outputs": [],
   "source": [
    "model = tf.keras.Sequential()\n",
    "# One is required to construct a final layer, as the output layer."
   ]
  },
  {
   "cell_type": "code",
   "execution_count": 6,
   "metadata": {},
   "outputs": [],
   "source": [
    "model.add(tf.keras.layers.Dense(4,\n",
    "                                input_shape=[1]))\n",
    "model.add(tf.keras.layers.Dense(4))\n",
    "model.add(tf.keras.layers.Dense(1))\n",
    "# model.add(tf.keras.layers.Dense(1,\n",
    "#                                 input_shape=[1]))"
   ]
  },
  {
   "cell_type": "markdown",
   "metadata": {},
   "source": [
    "$T_{f}$ = $T_{c}$ $\\times$ $\\frac{9}{5}$ + 32\n",
    "9/5 is the parameter, 32 is the bias"
   ]
  },
  {
   "cell_type": "code",
   "execution_count": 7,
   "metadata": {},
   "outputs": [
    {
     "name": "stdout",
     "output_type": "stream",
     "text": [
      "Model: \"sequential\"\n",
      "_________________________________________________________________\n",
      "Layer (type)                 Output Shape              Param #   \n",
      "=================================================================\n",
      "dense (Dense)                (None, 4)                 8         \n",
      "_________________________________________________________________\n",
      "dense_1 (Dense)              (None, 4)                 20        \n",
      "_________________________________________________________________\n",
      "dense_2 (Dense)              (None, 1)                 5         \n",
      "=================================================================\n",
      "Total params: 33\n",
      "Trainable params: 33\n",
      "Non-trainable params: 0\n",
      "_________________________________________________________________\n"
     ]
    }
   ],
   "source": [
    "model.summary()"
   ]
  },
  {
   "cell_type": "code",
   "execution_count": 8,
   "metadata": {},
   "outputs": [],
   "source": [
    "model.compile(\n",
    "    tf.keras.optimizers.Adam(learning_rate=0.1),\n",
    "    metrics=[tf.keras.metrics.MeanAbsoluteError()],\n",
    "    loss=\"mse\"\n",
    ")"
   ]
  },
  {
   "cell_type": "code",
   "execution_count": 9,
   "metadata": {},
   "outputs": [],
   "source": [
    "history = model.fit(celcius, fahrenheit, epochs=500, verbose=0)"
   ]
  },
  {
   "cell_type": "code",
   "execution_count": 10,
   "metadata": {},
   "outputs": [
    {
     "data": {
      "text/plain": [
       "array([[211.74744]], dtype=float32)"
      ]
     },
     "execution_count": 10,
     "metadata": {},
     "output_type": "execute_result"
    }
   ],
   "source": [
    "model.predict([100])"
   ]
  },
  {
   "cell_type": "code",
   "execution_count": 11,
   "metadata": {},
   "outputs": [
    {
     "data": {
      "text/plain": [
       "[array([[ 0.25015008,  0.08947237, -0.59580964,  0.10745055]],\n",
       "       dtype=float32),\n",
       " array([ 2.7249622,  2.5666418, -2.8233354,  2.554434 ], dtype=float32),\n",
       " array([[-0.24310884, -0.08600795, -0.58551186,  0.6128311 ],\n",
       "        [ 0.4185939 ,  0.93029094,  0.03872897,  1.0416238 ],\n",
       "        [ 0.23328283, -0.47172388,  0.02634076, -1.0008149 ],\n",
       "        [-0.1250134 , -0.0196386 , -0.79031265,  0.3688549 ]],\n",
       "       dtype=float32),\n",
       " array([ 1.1845456,  2.7231338, -2.7024062,  2.7782745], dtype=float32),\n",
       " array([[ 0.29383582],\n",
       "        [ 0.810109  ],\n",
       "        [-1.4028482 ],\n",
       "        [ 1.3960044 ]], dtype=float32),\n",
       " array([2.753902], dtype=float32)]"
      ]
     },
     "execution_count": 11,
     "metadata": {},
     "output_type": "execute_result"
    }
   ],
   "source": [
    "model.get_weights()"
   ]
  },
  {
   "cell_type": "code",
   "execution_count": 12,
   "metadata": {},
   "outputs": [
    {
     "data": {
      "text/plain": [
       "Text(0, 0.5, 'Loss')"
      ]
     },
     "execution_count": 12,
     "metadata": {},
     "output_type": "execute_result"
    },
    {
     "data": {
      "image/png": "[encoded data removed]",
      "text/plain": [
       "<Figure size 432x288 with 1 Axes>"
      ]
     },
     "metadata": {
      "needs_background": "light"
     },
     "output_type": "display_data"
    }
   ],
   "source": [
    "plt.plot(history.history['loss'])\n",
    "plt.xlabel('n_Epoch')\n",
    "plt.ylabel('Loss')"
   ]
  }
 ],
 "metadata": {
  "kernelspec": {
   "display_name": "Python 3",
   "language": "python",
   "name": "python3"
  },
  "language_info": {
   "codemirror_mode": {
    "name": "ipython",
    "version": 3
   },
   "file_extension": ".py",
   "mimetype": "text/x-python",
   "name": "python",
   "nbconvert_exporter": "python",
   "pygments_lexer": "ipython3",
   "version": "3.7.3"
  }
 },
 "nbformat": 4,
 "nbformat_minor": 4
}
